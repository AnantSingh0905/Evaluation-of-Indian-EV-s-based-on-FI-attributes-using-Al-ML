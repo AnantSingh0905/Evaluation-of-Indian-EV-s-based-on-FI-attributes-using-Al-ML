{
 "cells": [
  {
   "cell_type": "code",
   "execution_count": 1,
   "id": "3924d3e6",
   "metadata": {},
   "outputs": [],
   "source": [
    "from bs4 import BeautifulSoup\n",
    "from urllib.request import Request, urlopen\n",
    "import re\n",
    "import pandas as pd\n",
    "import numpy as np\n",
    "import nltk\n",
    "import torch\n",
    "from scipy.special import softmax"
   ]
  },
  {
   "cell_type": "markdown",
   "id": "5a896887",
   "metadata": {},
   "source": [
    "# Range / Mileage"
   ]
  },
  {
   "cell_type": "code",
   "execution_count": 2,
   "id": "32a7b802",
   "metadata": {},
   "outputs": [],
   "source": [
    "# link of the car review from cardeko \n",
    "car={1:\"https://www.cardekho.com/tata/nexon-ev-prime/user-reviews\",\n",
    "    2:\"https://www.cardekho.com/hyundai/kona/user-reviews\",\n",
    "    3:\"https://www.cardekho.com/tata/tiago-ev/user-reviews\",\n",
    "    4:\"https://www.cardekho.com/mahindra/xuv400-ev/user-reviews\"}"
   ]
  },
  {
   "cell_type": "code",
   "execution_count": 3,
   "id": "f8e45f06",
   "metadata": {},
   "outputs": [],
   "source": [
    "# link of the car review from zigwheels\n",
    "car1={1:\"https://www.zigwheels.com/user-reviews/Tata/nexon-ev-prime\",\n",
    "     2:\"https://www.zigwheels.com/user-reviews/Hyundai/kona\",\n",
    "     3:\"https://www.zigwheels.com/user-reviews/Tata/tiago-ev\",\n",
    "     4:\"https://www.zigwheels.com/user-reviews/Mahindra/xuv400-ev\"}"
   ]
  },
  {
   "cell_type": "code",
   "execution_count": 4,
   "id": "e68efbcd",
   "metadata": {},
   "outputs": [],
   "source": [
    "# link of the car review from team-bhp\n",
    "car2={1:\"https://www.team-bhp.com/forum/electric-cars/224158-review-tata-nexon-ev\",\n",
    "     2:\"https://www.team-bhp.com/forum/official-new-car-reviews/214118-hyundai-kona-official-review\",\n",
    "     3:\"https://www.team-bhp.com/forum/electric-cars/260439-tata-tiago-electric-review\",\n",
    "     4:\"https://www.team-bhp.com/forum/electric-cars/256855-mahindra-xuv400-ev-review.html\"}"
   ]
  },
  {
   "cell_type": "code",
   "execution_count": 5,
   "id": "ca30f693",
   "metadata": {},
   "outputs": [],
   "source": [
    "# Any value from 1 to 4 to select values from the above dictionary\n",
    "i=1\n",
    "link=car[i]\n",
    "link1=car1[i]\n",
    "link2=car2[i]"
   ]
  },
  {
   "cell_type": "code",
   "execution_count": 6,
   "id": "a5f845e1",
   "metadata": {},
   "outputs": [],
   "source": [
    "site= link + \"/mileage\"\n",
    "hdr = {'User-Agent': 'Mozilla/5.0 (Windows NT 6.1) AppleWebKit/537.36 (KHTML, like Gecko) Chrome/41.0.2228.0 Safari/537.36'}\n",
    "req = Request(site,headers=hdr)\n",
    "page = urlopen(req)\n",
    "soup = BeautifulSoup(page)\n",
    "Range=[]"
   ]
  },
  {
   "cell_type": "code",
   "execution_count": 7,
   "id": "0003afad",
   "metadata": {},
   "outputs": [],
   "source": [
    "try:\n",
    "    ptt=soup.find(\"div\",class_=\"pagination\").ul\n",
    "    pages=ptt.find_all(\"li\")\n",
    "    for q in range(1,len(pages)-1):\n",
    "        if q==1:\n",
    "            site= site\n",
    "            hdr = {'User-Agent': 'Mozilla/5.0 (Windows NT 6.1) AppleWebKit/537.36 (KHTML, like Gecko) Chrome/41.0.2228.0 Safari/537.36'}\n",
    "            req = Request(site,headers=hdr)\n",
    "            page = urlopen(req)\n",
    "            soup = BeautifulSoup(page)\n",
    "            cars=soup.find('div',class_=\"gsc-ta-active gsc-ta-content\").ul\n",
    "            for i in cars:\n",
    "                j=i.find(\"div\",class_=\"contentspace\").find(\"p\",class_=\"contentheight\")\n",
    "                p=j.find(\"span\").text\n",
    "                Range.append(p)\n",
    "        else:\n",
    "            site= site\n",
    "            site=site+'/'+str(q)\n",
    "            hdr = {'User-Agent': 'Mozilla/5.0 (Windows NT 6.1) AppleWebKit/537.36 (KHTML, like Gecko) Chrome/41.0.2228.0 Safari/537.36'}\n",
    "            req = Request(site,headers=hdr)\n",
    "            page = urlopen(req)\n",
    "            soup = BeautifulSoup(page)\n",
    "            cars=soup.find('div',class_=\"gsc-ta-active gsc-ta-content\").ul\n",
    "            for i in cars:\n",
    "                j=i.find(\"div\",class_=\"contentspace\").find(\"p\",class_=\"contentheight\")\n",
    "                p=j.find(\"span\").text\n",
    "                Range.append(p)\n",
    "except:\n",
    "    try:\n",
    "        site= site\n",
    "        hdr = {'User-Agent': 'Mozilla/5.0 (Windows NT 6.1) AppleWebKit/537.36 (KHTML, like Gecko) Chrome/41.0.2228.0 Safari/537.36'}\n",
    "        req = Request(site,headers=hdr)\n",
    "        page = urlopen(req)\n",
    "        soup = BeautifulSoup(page)\n",
    "        cars=soup.find('div',class_=\"gsc-ta-active gsc-ta-content\").ul\n",
    "        for i in cars:\n",
    "            j=i.find(\"div\",class_=\"contentspace\").find(\"p\",class_=\"contentheight\")\n",
    "            p=j.find(\"span\").text\n",
    "            Range.append(p)\n",
    "    except:\n",
    "        print()"
   ]
  },
  {
   "cell_type": "code",
   "execution_count": 8,
   "id": "ac7d97e5",
   "metadata": {
    "scrolled": true
   },
   "outputs": [
    {
     "data": {
      "text/plain": [
       "16"
      ]
     },
     "execution_count": 8,
     "metadata": {},
     "output_type": "execute_result"
    }
   ],
   "source": [
    "len(Range)"
   ]
  },
  {
   "cell_type": "markdown",
   "id": "3fd78107",
   "metadata": {},
   "source": [
    "# Safety"
   ]
  },
  {
   "cell_type": "code",
   "execution_count": 9,
   "id": "4877ce76",
   "metadata": {},
   "outputs": [],
   "source": [
    "site= link + \"/safety\"\n",
    "hdr = {'User-Agent': 'Mozilla/5.0 (Windows NT 6.1) AppleWebKit/537.36 (KHTML, like Gecko) Chrome/41.0.2228.0 Safari/537.36'}\n",
    "req = Request(site,headers=hdr)\n",
    "page = urlopen(req)\n",
    "soup = BeautifulSoup(page)\n",
    "Safety=[]"
   ]
  },
  {
   "cell_type": "code",
   "execution_count": 10,
   "id": "3e0406f2",
   "metadata": {},
   "outputs": [],
   "source": [
    "try:\n",
    "    ptt=soup.find(\"div\",class_=\"pagination\").ul\n",
    "    pages=ptt.find_all(\"li\")\n",
    "    for q in range(1,len(pages)-1):\n",
    "        if q==1:\n",
    "            site= site\n",
    "            hdr = {'User-Agent': 'Mozilla/5.0 (Windows NT 6.1) AppleWebKit/537.36 (KHTML, like Gecko) Chrome/41.0.2228.0 Safari/537.36'}\n",
    "            req = Request(site,headers=hdr)\n",
    "            page = urlopen(req)\n",
    "            soup = BeautifulSoup(page)\n",
    "            cars=soup.find('div',class_=\"gsc-ta-active gsc-ta-content\").ul\n",
    "            for i in cars:\n",
    "                j=i.find(\"div\",class_=\"contentspace\").find(\"p\",class_=\"contentheight\")\n",
    "                p=j.find(\"span\").text\n",
    "                Safety.append(p)\n",
    "        else:\n",
    "            site=site\n",
    "            site=site+'/'+str(q)\n",
    "            hdr = {'User-Agent': 'Mozilla/5.0 (Windows NT 6.1) AppleWebKit/537.36 (KHTML, like Gecko) Chrome/41.0.2228.0 Safari/537.36'}\n",
    "            req = Request(site,headers=hdr)\n",
    "            page = urlopen(req)\n",
    "            soup = BeautifulSoup(page)\n",
    "            cars=soup.find('div',class_=\"gsc-ta-active gsc-ta-content\").ul\n",
    "            for i in cars:\n",
    "                j=i.find(\"div\",class_=\"contentspace\").find(\"p\",class_=\"contentheight\")\n",
    "                p=j.find(\"span\").text\n",
    "                Safety.append(p)\n",
    "except:\n",
    "    try:\n",
    "        site= site\n",
    "        hdr = {'User-Agent': 'Mozilla/5.0 (Windows NT 6.1) AppleWebKit/537.36 (KHTML, like Gecko) Chrome/41.0.2228.0 Safari/537.36'}\n",
    "        req = Request(site,headers=hdr)\n",
    "        page = urlopen(req)\n",
    "        soup = BeautifulSoup(page)\n",
    "        cars=soup.find('div',class_=\"gsc-ta-active gsc-ta-content\").ul\n",
    "        for i in cars:\n",
    "            j=i.find(\"div\",class_=\"contentspace\").find(\"p\",class_=\"contentheight\")\n",
    "            p=j.find(\"span\").text\n",
    "            Safety.append(p)\n",
    "    except:\n",
    "        print()"
   ]
  },
  {
   "cell_type": "code",
   "execution_count": 11,
   "id": "c7dfc066",
   "metadata": {},
   "outputs": [],
   "source": [
    "site= link1 + \"/safety\"\n",
    "hdr = {'User-Agent': 'Mozilla/5.0 (Windows NT 6.1) AppleWebKit/537.36 (KHTML, like Gecko) Chrome/41.0.2228.0 Safari/537.36'}\n",
    "req = Request(site,headers=hdr)\n",
    "page = urlopen(req)\n",
    "soup = BeautifulSoup(page)\n",
    "sec=soup.find('div',class_='pt-15').ul\n",
    "list1=sec.find_all('li')\n",
    "t=list1[1].text.strip(\"\\n\")[:-3]\n",
    "if re.search(\"Safety\",t):\n",
    "    sec=soup.find('div',class_='f-rvm').find_all(\"div\",class_=\"ncmt-c\")\n",
    "    for reviews in sec:\n",
    "        review=reviews.find(\"p\").text\n",
    "        Safety.append(review)\n",
    "else:\n",
    "    print()"
   ]
  },
  {
   "cell_type": "code",
   "execution_count": 12,
   "id": "97653e86",
   "metadata": {},
   "outputs": [
    {
     "data": {
      "text/plain": [
       "18"
      ]
     },
     "execution_count": 12,
     "metadata": {},
     "output_type": "execute_result"
    }
   ],
   "source": [
    "len(Safety)"
   ]
  },
  {
   "cell_type": "code",
   "execution_count": 13,
   "id": "681959ae",
   "metadata": {},
   "outputs": [],
   "source": [
    "df=pd.DataFrame({\"Safety\":Safety})"
   ]
  },
  {
   "cell_type": "markdown",
   "id": "6b775543",
   "metadata": {},
   "source": [
    "# Performance"
   ]
  },
  {
   "cell_type": "code",
   "execution_count": 14,
   "id": "13b2cbc5",
   "metadata": {},
   "outputs": [],
   "source": [
    "site= link + \"/performance\"\n",
    "hdr = {'User-Agent': 'Mozilla/5.0 (Windows NT 6.1) AppleWebKit/537.36 (KHTML, like Gecko) Chrome/41.0.2228.0 Safari/537.36'}"
   ]
  },
  {
   "cell_type": "code",
   "execution_count": 15,
   "id": "cecf2b07",
   "metadata": {},
   "outputs": [],
   "source": [
    "req = Request(site,headers=hdr)\n",
    "page = urlopen(req)"
   ]
  },
  {
   "cell_type": "code",
   "execution_count": 16,
   "id": "80abf83e",
   "metadata": {},
   "outputs": [],
   "source": [
    "soup = BeautifulSoup(page)\n",
    "Performance=[]"
   ]
  },
  {
   "cell_type": "code",
   "execution_count": 17,
   "id": "447a7c22",
   "metadata": {},
   "outputs": [],
   "source": [
    "try:\n",
    "    ptt=soup.find(\"div\",class_=\"pagination\").ul\n",
    "    pages=ptt.find_all(\"li\")\n",
    "    for q in range(1,len(pages)-1):\n",
    "        if q==1:\n",
    "            site= site\n",
    "            hdr = {'User-Agent': 'Mozilla/5.0 (Windows NT 6.1) AppleWebKit/537.36 (KHTML, like Gecko) Chrome/41.0.2228.0 Safari/537.36'}\n",
    "            req = Request(site,headers=hdr)\n",
    "            page = urlopen(req)\n",
    "            soup = BeautifulSoup(page)\n",
    "            cars=soup.find('div',class_=\"gsc-ta-active gsc-ta-content\").ul\n",
    "            for i in cars:\n",
    "                j=i.find(\"div\",class_=\"contentspace\").find(\"p\",class_=\"contentheight\")\n",
    "                p=j.find(\"span\").text\n",
    "                Text.append(p)\n",
    "                Performance.append(p)\n",
    "        else:\n",
    "            site=site\n",
    "            site=site+'/'+str(q)\n",
    "            hdr = {'User-Agent': 'Mozilla/5.0 (Windows NT 6.1) AppleWebKit/537.36 (KHTML, like Gecko) Chrome/41.0.2228.0 Safari/537.36'}\n",
    "            req = Request(site,headers=hdr)\n",
    "            page = urlopen(req)\n",
    "            soup = BeautifulSoup(page)\n",
    "            cars=soup.find('div',class_=\"gsc-ta-active gsc-ta-content\").ul\n",
    "            for i in cars:\n",
    "                j=i.find(\"div\",class_=\"contentspace\").find(\"p\",class_=\"contentheight\")\n",
    "                p=j.find(\"span\").text\n",
    "                Performance.append(p)\n",
    "except:\n",
    "    try:\n",
    "        \n",
    "        site= site\n",
    "        hdr = {'User-Agent': 'Mozilla/5.0 (Windows NT 6.1) AppleWebKit/537.36 (KHTML, like Gecko) Chrome/41.0.2228.0 Safari/537.36'}\n",
    "        req = Request(site,headers=hdr)\n",
    "        page = urlopen(req)\n",
    "        soup = BeautifulSoup(page)\n",
    "        cars=soup.find('div',class_=\"gsc-ta-active gsc-ta-content\").ul\n",
    "        for i in cars:\n",
    "            j=i.find(\"div\",class_=\"contentspace\").find(\"p\",class_=\"contentheight\")\n",
    "            p=j.find(\"span\").text\n",
    "            Performance.append(p)\n",
    "    except:\n",
    "        print()"
   ]
  },
  {
   "cell_type": "code",
   "execution_count": 18,
   "id": "6e53b1dd",
   "metadata": {},
   "outputs": [],
   "source": [
    "site= link1 + \"/performance\"\n",
    "hdr = {'User-Agent': 'Mozilla/5.0 (Windows NT 6.1) AppleWebKit/537.36 (KHTML, like Gecko) Chrome/41.0.2228.0 Safari/537.36'}\n",
    "req = Request(site,headers=hdr)\n",
    "page = urlopen(req)\n",
    "soup = BeautifulSoup(page)\n",
    "try:\n",
    "    sec=soup.find('div',class_='pt-15').ul\n",
    "    list1=sec.find_all('li')\n",
    "    t=list1[1].text.strip(\"\\n\")[:-3]\n",
    "    if re.search(\"Performance\",t):\n",
    "        sec=soup.find('div',class_='f-rvm').find_all(\"div\",class_=\"ncmt-c\")\n",
    "        for reviews in sec:\n",
    "            review=reviews.find(\"p\").text\n",
    "            Performance.append(review)\n",
    "except:\n",
    "    print()"
   ]
  },
  {
   "cell_type": "code",
   "execution_count": 19,
   "id": "57c138ab",
   "metadata": {},
   "outputs": [],
   "source": [
    "df=pd.DataFrame({\"Performance\":Performance})"
   ]
  },
  {
   "cell_type": "code",
   "execution_count": 20,
   "id": "49d7d3e7",
   "metadata": {},
   "outputs": [],
   "source": [
    "df.to_csv(\"Performance.csv\")"
   ]
  },
  {
   "cell_type": "markdown",
   "id": "d03fac02",
   "metadata": {},
   "source": [
    "# Occupant Comfort (HVAC, Seating)"
   ]
  },
  {
   "cell_type": "code",
   "execution_count": 21,
   "id": "4b7ed33f",
   "metadata": {},
   "outputs": [],
   "source": [
    "site= link + \"/seat\"\n",
    "hdr = {'User-Agent': 'Mozilla/5.0 (Windows NT 6.1) AppleWebKit/537.36 (KHTML, like Gecko) Chrome/41.0.2228.0 Safari/537.36'}\n",
    "req = Request(site,headers=hdr)\n",
    "page = urlopen(req)\n",
    "soup = BeautifulSoup(page)\n",
    "comfort=[]"
   ]
  },
  {
   "cell_type": "code",
   "execution_count": 22,
   "id": "60f36ee8",
   "metadata": {},
   "outputs": [],
   "source": [
    "try:\n",
    "    ptt=soup.find(\"div\",class_=\"pagination\").ul\n",
    "    pages=ptt.find_all(\"li\")\n",
    "    for q in range(1,len(pages)-1):\n",
    "        if q==1:\n",
    "            site= site\n",
    "            hdr = {'User-Agent': 'Mozilla/5.0 (Windows NT 6.1) AppleWebKit/537.36 (KHTML, like Gecko) Chrome/41.0.2228.0 Safari/537.36'}\n",
    "            req = Request(site,headers=hdr)\n",
    "            page = urlopen(req)\n",
    "            soup = BeautifulSoup(page)\n",
    "            cars=soup.find('div',class_=\"gsc-ta-active gsc-ta-content\").ul\n",
    "            for i in cars:\n",
    "                j=i.find(\"div\",class_=\"contentspace\").find(\"p\",class_=\"contentheight\")\n",
    "                p=j.find(\"span\").text\n",
    "                comfort.append(p)\n",
    "        else:\n",
    "            site=site\n",
    "            site=site+'/'+str(q)\n",
    "            hdr = {'User-Agent': 'Mozilla/5.0 (Windows NT 6.1) AppleWebKit/537.36 (KHTML, like Gecko) Chrome/41.0.2228.0 Safari/537.36'}\n",
    "            req = Request(site,headers=hdr)\n",
    "            page = urlopen(req)\n",
    "            soup = BeautifulSoup(page)\n",
    "            cars=soup.find('div',class_=\"gsc-ta-active gsc-ta-content\").ul\n",
    "            for i in cars:\n",
    "                j=i.find(\"div\",class_=\"contentspace\").find(\"p\",class_=\"contentheight\")\n",
    "                p=j.find(\"span\").text\n",
    "                comfort.append(p)\n",
    "except:\n",
    "    try:\n",
    "        site= site\n",
    "        hdr = {'User-Agent': 'Mozilla/5.0 (Windows NT 6.1) AppleWebKit/537.36 (KHTML, like Gecko) Chrome/41.0.2228.0 Safari/537.36'}\n",
    "        req = Request(site,headers=hdr)\n",
    "        page = urlopen(req)\n",
    "        soup = BeautifulSoup(page)\n",
    "        cars=soup.find('div',class_=\"gsc-ta-active gsc-ta-content\").ul\n",
    "        for i in cars:\n",
    "            j=i.find(\"div\",class_=\"contentspace\").find(\"p\",class_=\"contentheight\")\n",
    "            p=j.find(\"span\").text\n",
    "            comfort.append(p)\n",
    "    except:\n",
    "        print()"
   ]
  },
  {
   "cell_type": "code",
   "execution_count": 23,
   "id": "ebcd1898",
   "metadata": {},
   "outputs": [],
   "source": [
    "site= link1 + \"/seat\"\n",
    "hdr = {'User-Agent': 'Mozilla/5.0 (Windows NT 6.1) AppleWebKit/537.36 (KHTML, like Gecko) Chrome/41.0.2228.0 Safari/537.36'}\n",
    "req = Request(site,headers=hdr)\n",
    "page = urlopen(req)\n",
    "soup = BeautifulSoup(page)\n",
    "try:\n",
    "    sec=soup.find('div',class_='pt-15').ul\n",
    "    list1=sec.find_all('li')\n",
    "    t=list1[1].text.strip(\"\\n\")[:-3]\n",
    "    if re.search(\"Seat\",t):\n",
    "        sec=soup.find('div',class_='f-rvm').find_all(\"div\",class_=\"ncmt-c\")\n",
    "        for reviews in sec:\n",
    "            review=reviews.find(\"p\").text\n",
    "            comfort.append(review)\n",
    "except:\n",
    "    print()"
   ]
  },
  {
   "cell_type": "code",
   "execution_count": 24,
   "id": "f5497a7a",
   "metadata": {},
   "outputs": [],
   "source": [
    "site= link1 + \"/space\"\n",
    "hdr = {'User-Agent': 'Mozilla/5.0 (Windows NT 6.1) AppleWebKit/537.36 (KHTML, like Gecko) Chrome/41.0.2228.0 Safari/537.36'}\n",
    "req = Request(site,headers=hdr)\n",
    "page = urlopen(req)\n",
    "soup = BeautifulSoup(page)"
   ]
  },
  {
   "cell_type": "code",
   "execution_count": 25,
   "id": "c76628ab",
   "metadata": {},
   "outputs": [
    {
     "name": "stdout",
     "output_type": "stream",
     "text": [
      "\n"
     ]
    }
   ],
   "source": [
    "try:\n",
    "    ptt=soup.find(\"div\",class_=\"pagination\").ul\n",
    "    pages=ptt.find_all(\"li\")\n",
    "    for q in range(1,len(pages)-1):\n",
    "        if q==1:\n",
    "            site= site\n",
    "            hdr = {'User-Agent': 'Mozilla/5.0 (Windows NT 6.1) AppleWebKit/537.36 (KHTML, like Gecko) Chrome/41.0.2228.0 Safari/537.36'}\n",
    "            req = Request(site,headers=hdr)\n",
    "            page = urlopen(req)\n",
    "            soup = BeautifulSoup(page)\n",
    "            cars=soup.find('div',class_=\"gsc-ta-active gsc-ta-content\").ul\n",
    "            for i in cars:\n",
    "                j=i.find(\"div\",class_=\"contentspace\").find(\"p\",class_=\"contentheight\")\n",
    "                p=j.find(\"span\").text\n",
    "                comfort.append(p)\n",
    "        else:\n",
    "            site=site\n",
    "            site=site+'/'+str(q)\n",
    "            hdr = {'User-Agent': 'Mozilla/5.0 (Windows NT 6.1) AppleWebKit/537.36 (KHTML, like Gecko) Chrome/41.0.2228.0 Safari/537.36'}\n",
    "            req = Request(site,headers=hdr)\n",
    "            page = urlopen(req)\n",
    "            soup = BeautifulSoup(page)\n",
    "            cars=soup.find('div',class_=\"gsc-ta-active gsc-ta-content\").ul\n",
    "            for i in cars:\n",
    "                j=i.find(\"div\",class_=\"contentspace\").find(\"p\",class_=\"contentheight\")\n",
    "                p=j.find(\"span\").text\n",
    "                comfort.append(p)\n",
    "except:\n",
    "    try:\n",
    "        site= site\n",
    "        hdr = {'User-Agent': 'Mozilla/5.0 (Windows NT 6.1) AppleWebKit/537.36 (KHTML, like Gecko) Chrome/41.0.2228.0 Safari/537.36'}\n",
    "        req = Request(site,headers=hdr)\n",
    "        page = urlopen(req)\n",
    "        soup = BeautifulSoup(page)\n",
    "        cars=soup.find('div',class_=\"gsc-ta-active gsc-ta-content\").ul\n",
    "        for i in cars:\n",
    "            j=i.find(\"div\",class_=\"contentspace\").find(\"p\",class_=\"contentheight\")\n",
    "            p=j.find(\"span\").text\n",
    "            comfort.append(p)\n",
    "    except:\n",
    "        print()"
   ]
  },
  {
   "cell_type": "code",
   "execution_count": 26,
   "id": "f853b96e",
   "metadata": {},
   "outputs": [
    {
     "data": {
      "text/plain": [
       "7"
      ]
     },
     "execution_count": 26,
     "metadata": {},
     "output_type": "execute_result"
    }
   ],
   "source": [
    "len(comfort)"
   ]
  },
  {
   "cell_type": "code",
   "execution_count": 27,
   "id": "be988842",
   "metadata": {},
   "outputs": [],
   "source": [
    "site= link + \"/seat-comfortable\"\n",
    "hdr = {'User-Agent': 'Mozilla/5.0 (Windows NT 6.1) AppleWebKit/537.36 (KHTML, like Gecko) Chrome/41.0.2228.0 Safari/537.36'}\n",
    "req = Request(site,headers=hdr)\n",
    "page = urlopen(req)\n",
    "soup = BeautifulSoup(page)"
   ]
  },
  {
   "cell_type": "code",
   "execution_count": 28,
   "id": "ba53a001",
   "metadata": {},
   "outputs": [],
   "source": [
    "try:\n",
    "    ptt=soup.find(\"div\",class_=\"pagination\").ul\n",
    "    pages=ptt.find_all(\"li\")\n",
    "    for q in range(1,len(pages)-1):\n",
    "        if q==1:\n",
    "            site= site\n",
    "            hdr = {'User-Agent': 'Mozilla/5.0 (Windows NT 6.1) AppleWebKit/537.36 (KHTML, like Gecko) Chrome/41.0.2228.0 Safari/537.36'}\n",
    "            req = Request(site,headers=hdr)\n",
    "            page = urlopen(req)\n",
    "            soup = BeautifulSoup(page)\n",
    "            cars=soup.find('div',class_=\"gsc-ta-active gsc-ta-content\").ul\n",
    "            for i in cars:\n",
    "                j=i.find(\"div\",class_=\"contentspace\").find(\"p\",class_=\"contentheight\")\n",
    "                p=j.find(\"span\").text\n",
    "                comfort.append(p)\n",
    "        else:\n",
    "            site=site\n",
    "            site=site+'/'+str(q)\n",
    "            hdr = {'User-Agent': 'Mozilla/5.0 (Windows NT 6.1) AppleWebKit/537.36 (KHTML, like Gecko) Chrome/41.0.2228.0 Safari/537.36'}\n",
    "            req = Request(site,headers=hdr)\n",
    "            page = urlopen(req)\n",
    "            soup = BeautifulSoup(page)\n",
    "            cars=soup.find('div',class_=\"gsc-ta-active gsc-ta-content\").ul\n",
    "            for i in cars:\n",
    "                j=i.find(\"div\",class_=\"contentspace\").find(\"p\",class_=\"contentheight\")\n",
    "                p=j.find(\"span\").text\n",
    "                comfort.append(p)\n",
    "except:\n",
    "    try:\n",
    "        site= site\n",
    "        hdr = {'User-Agent': 'Mozilla/5.0 (Windows NT 6.1) AppleWebKit/537.36 (KHTML, like Gecko) Chrome/41.0.2228.0 Safari/537.36'}\n",
    "        req = Request(site,headers=hdr)\n",
    "        page = urlopen(req)\n",
    "        soup = BeautifulSoup(page)\n",
    "        cars=soup.find('div',class_=\"gsc-ta-active gsc-ta-content\").ul\n",
    "        for i in cars:\n",
    "            j=i.find(\"div\",class_=\"contentspace\").find(\"p\",class_=\"contentheight\")\n",
    "            p=j.find(\"span\").text\n",
    "            comfort.append(p)\n",
    "    except:\n",
    "        print()"
   ]
  },
  {
   "cell_type": "code",
   "execution_count": 29,
   "id": "84352f63",
   "metadata": {},
   "outputs": [],
   "source": [
    "site= link1 + \"/comfort\"\n",
    "hdr = {'User-Agent': 'Mozilla/5.0 (Windows NT 6.1) AppleWebKit/537.36 (KHTML, like Gecko) Chrome/41.0.2228.0 Safari/537.36'}\n",
    "req = Request(site,headers=hdr)\n",
    "page = urlopen(req)\n",
    "soup = BeautifulSoup(page)\n",
    "try:\n",
    "    sec=soup.find('div',class_='pt-15').ul\n",
    "    list1=sec.find_all('li')\n",
    "    t=list1[1].text.strip(\"\\n\")[:-3]\n",
    "    if re.search(\"Comfort\",t):\n",
    "        sec=soup.find('div',class_='f-rvm').find_all(\"div\",class_=\"ncmt-c\")\n",
    "        for reviews in sec:\n",
    "            review=reviews.find(\"p\").text\n",
    "            comfort.append(review)\n",
    "except:\n",
    "    print()"
   ]
  },
  {
   "cell_type": "code",
   "execution_count": 30,
   "id": "d20015ef",
   "metadata": {},
   "outputs": [
    {
     "data": {
      "text/plain": [
       "14"
      ]
     },
     "execution_count": 30,
     "metadata": {},
     "output_type": "execute_result"
    }
   ],
   "source": [
    "len(comfort)"
   ]
  },
  {
   "cell_type": "code",
   "execution_count": 31,
   "id": "76e39ac7",
   "metadata": {},
   "outputs": [],
   "source": [
    "site= link + \"/ac\"\n",
    "hdr = {'User-Agent': 'Mozilla/5.0 (Windows NT 6.1) AppleWebKit/537.36 (KHTML, like Gecko) Chrome/41.0.2228.0 Safari/537.36'}\n",
    "req = Request(site,headers=hdr)\n",
    "page = urlopen(req)\n",
    "soup = BeautifulSoup(page)"
   ]
  },
  {
   "cell_type": "code",
   "execution_count": 32,
   "id": "1eb3073a",
   "metadata": {},
   "outputs": [],
   "source": [
    "try:\n",
    "    ptt=soup.find(\"div\",class_=\"pagination\").ul\n",
    "    pages=ptt.find_all(\"li\")\n",
    "    for q in range(1,len(pages)-1):\n",
    "        if q==1:\n",
    "            site= site\n",
    "            hdr = {'User-Agent': 'Mozilla/5.0 (Windows NT 6.1) AppleWebKit/537.36 (KHTML, like Gecko) Chrome/41.0.2228.0 Safari/537.36'}\n",
    "            req = Request(site,headers=hdr)\n",
    "            page = urlopen(req)\n",
    "            soup = BeautifulSoup(page)\n",
    "            cars=soup.find('div',class_=\"gsc-ta-active gsc-ta-content\").ul\n",
    "            for i in cars:\n",
    "                j=i.find(\"div\",class_=\"contentspace\").find(\"p\",class_=\"contentheight\")\n",
    "                p=j.find(\"span\").text\n",
    "                comfort.append(p)\n",
    "        else:\n",
    "            site=site\n",
    "            site=site+'/'+str(q)\n",
    "            hdr = {'User-Agent': 'Mozilla/5.0 (Windows NT 6.1) AppleWebKit/537.36 (KHTML, like Gecko) Chrome/41.0.2228.0 Safari/537.36'}\n",
    "            req = Request(site,headers=hdr)\n",
    "            page = urlopen(req)\n",
    "            soup = BeautifulSoup(page)\n",
    "            cars=soup.find('div',class_=\"gsc-ta-active gsc-ta-content\").ul\n",
    "            for i in cars:\n",
    "                j=i.find(\"div\",class_=\"contentspace\").find(\"p\",class_=\"contentheight\")\n",
    "                p=j.find(\"span\").text\n",
    "                comfort.append(p)\n",
    "except:\n",
    "    try:\n",
    "        site= site\n",
    "        hdr = {'User-Agent': 'Mozilla/5.0 (Windows NT 6.1) AppleWebKit/537.36 (KHTML, like Gecko) Chrome/41.0.2228.0 Safari/537.36'}\n",
    "        req = Request(site,headers=hdr)\n",
    "        page = urlopen(req)\n",
    "        soup = BeautifulSoup(page)\n",
    "        cars=soup.find('div',class_=\"gsc-ta-active gsc-ta-content\").ul\n",
    "        for i in cars:\n",
    "            j=i.find(\"div\",class_=\"contentspace\").find(\"p\",class_=\"contentheight\")\n",
    "            p=j.find(\"span\").text\n",
    "            comfort.append(p)\n",
    "    except:\n",
    "        print()"
   ]
  },
  {
   "cell_type": "code",
   "execution_count": 33,
   "id": "0345d1c5",
   "metadata": {},
   "outputs": [
    {
     "data": {
      "text/plain": [
       "21"
      ]
     },
     "execution_count": 33,
     "metadata": {},
     "output_type": "execute_result"
    }
   ],
   "source": [
    "len(comfort)"
   ]
  },
  {
   "cell_type": "code",
   "execution_count": 34,
   "id": "998559a5",
   "metadata": {},
   "outputs": [],
   "source": [
    "df=pd.DataFrame({\"Comfort\":comfort})"
   ]
  },
  {
   "cell_type": "code",
   "execution_count": 35,
   "id": "fdba9456",
   "metadata": {},
   "outputs": [],
   "source": [
    "df.to_csv(\"Comfort.csv\")"
   ]
  },
  {
   "cell_type": "markdown",
   "id": "c73ccb6e",
   "metadata": {},
   "source": [
    "# Off-road capability"
   ]
  },
  {
   "cell_type": "code",
   "execution_count": 36,
   "id": "e46a0846",
   "metadata": {},
   "outputs": [],
   "source": [
    "site= link + \"/suspension\"\n",
    "hdr = {'User-Agent': 'Mozilla/5.0 (Windows NT 6.1) AppleWebKit/537.36 (KHTML, like Gecko) Chrome/41.0.2228.0 Safari/537.36'}\n",
    "req = Request(site,headers=hdr)\n",
    "page = urlopen(req)\n",
    "soup = BeautifulSoup(page)\n",
    "Off_road=[]"
   ]
  },
  {
   "cell_type": "code",
   "execution_count": 37,
   "id": "f31e6c4d",
   "metadata": {},
   "outputs": [
    {
     "name": "stdout",
     "output_type": "stream",
     "text": [
      "\n"
     ]
    }
   ],
   "source": [
    "try:\n",
    "    ptt=soup.find(\"div\",class_=\"pagination\").ul\n",
    "    pages=ptt.find_all(\"li\")\n",
    "    for q in range(1,len(pages)-1):\n",
    "        if q==1:\n",
    "            site= site\n",
    "            hdr = {'User-Agent': 'Mozilla/5.0 (Windows NT 6.1) AppleWebKit/537.36 (KHTML, like Gecko) Chrome/41.0.2228.0 Safari/537.36'}\n",
    "            req = Request(site,headers=hdr)\n",
    "            page = urlopen(req)\n",
    "            soup = BeautifulSoup(page)\n",
    "            cars=soup.find('div',class_=\"gsc-ta-active gsc-ta-content\").ul\n",
    "            for i in cars:\n",
    "                j=i.find(\"div\",class_=\"contentspace\").find(\"p\",class_=\"contentheight\")\n",
    "                p=j.find(\"span\").text\n",
    "                Off_road.append(p)\n",
    "        else:\n",
    "            site=site\n",
    "            site=site+'/'+str(q)\n",
    "            hdr = {'User-Agent': 'Mozilla/5.0 (Windows NT 6.1) AppleWebKit/537.36 (KHTML, like Gecko) Chrome/41.0.2228.0 Safari/537.36'}\n",
    "            req = Request(site,headers=hdr)\n",
    "            page = urlopen(req)\n",
    "            soup = BeautifulSoup(page)\n",
    "            cars=soup.find('div',class_=\"gsc-ta-active gsc-ta-content\").ul\n",
    "            for i in cars:\n",
    "                j=i.find(\"div\",class_=\"contentspace\").find(\"p\",class_=\"contentheight\")\n",
    "                p=j.find(\"span\").text\n",
    "                Off_road.append(p)\n",
    "except:\n",
    "    try:\n",
    "        site= site\n",
    "        hdr = {'User-Agent': 'Mozilla/5.0 (Windows NT 6.1) AppleWebKit/537.36 (KHTML, like Gecko) Chrome/41.0.2228.0 Safari/537.36'}\n",
    "        req = Request(site,headers=hdr)\n",
    "        page = urlopen(req)\n",
    "        soup = BeautifulSoup(page)\n",
    "        cars=soup.find('div',class_=\"gsc-ta-active gsc-ta-content\").ul\n",
    "        Off_road=[]\n",
    "        Max=[]\n",
    "        for i in cars:\n",
    "            j=i.find(\"div\",class_=\"contentspace\").find(\"p\",class_=\"contentheight\")\n",
    "            p=j.find(\"span\").text\n",
    "            Off_road.append(p)\n",
    "    except:\n",
    "        print()"
   ]
  },
  {
   "cell_type": "code",
   "execution_count": 38,
   "id": "249ccf48",
   "metadata": {},
   "outputs": [],
   "source": [
    "site= link1 + \"/suspension\"\n",
    "hdr = {'User-Agent': 'Mozilla/5.0 (Windows NT 6.1) AppleWebKit/537.36 (KHTML, like Gecko) Chrome/41.0.2228.0 Safari/537.36'}\n",
    "req = Request(site,headers=hdr)\n",
    "page = urlopen(req)\n",
    "soup = BeautifulSoup(page)\n",
    "try:\n",
    "    sec=soup.find('div',class_='pt-15').ul\n",
    "    list1=sec.find_all('li')\n",
    "    t=list1[1].text.strip(\"\\n\")[:-3]\n",
    "    if re.search(\"Suspension\",t):\n",
    "        sec=soup.find('div',class_='f-rvm').find_all(\"div\",class_=\"ncmt-c\")\n",
    "        for reviews in sec:\n",
    "            review=reviews.find(\"p\").text\n",
    "            Off_road.append(review)\n",
    "except:\n",
    "    print()"
   ]
  },
  {
   "cell_type": "code",
   "execution_count": 39,
   "id": "db850221",
   "metadata": {},
   "outputs": [
    {
     "data": {
      "text/plain": [
       "2"
      ]
     },
     "execution_count": 39,
     "metadata": {},
     "output_type": "execute_result"
    }
   ],
   "source": [
    "len(Off_road)"
   ]
  },
  {
   "cell_type": "code",
   "execution_count": 40,
   "id": "8f633e20",
   "metadata": {},
   "outputs": [],
   "source": [
    "site= link + \"/ground-clearance\"\n",
    "hdr = {'User-Agent': 'Mozilla/5.0 (Windows NT 6.1) AppleWebKit/537.36 (KHTML, like Gecko) Chrome/41.0.2228.0 Safari/537.36'}\n",
    "req = Request(site,headers=hdr)\n",
    "page = urlopen(req)\n",
    "soup = BeautifulSoup(page)"
   ]
  },
  {
   "cell_type": "code",
   "execution_count": 41,
   "id": "07cfa9db",
   "metadata": {},
   "outputs": [],
   "source": [
    "try:\n",
    "    ptt=soup.find(\"div\",class_=\"pagination\").ul\n",
    "    pages=ptt.find_all(\"li\")\n",
    "    for q in range(1,len(pages)-1):\n",
    "        if q==1:\n",
    "            site= site\n",
    "            hdr = {'User-Agent': 'Mozilla/5.0 (Windows NT 6.1) AppleWebKit/537.36 (KHTML, like Gecko) Chrome/41.0.2228.0 Safari/537.36'}\n",
    "            req = Request(site,headers=hdr)\n",
    "            page = urlopen(req)\n",
    "            soup = BeautifulSoup(page)\n",
    "            cars=soup.find('div',class_=\"gsc-ta-active gsc-ta-content\").ul\n",
    "            for i in cars:\n",
    "                j=i.find(\"div\",class_=\"contentspace\").find(\"p\",class_=\"contentheight\")\n",
    "                p=j.find(\"span\").text\n",
    "                Off_road.append(p)\n",
    "                \n",
    "        else:\n",
    "            site=site\n",
    "            site=site+'/'+str(q)\n",
    "            hdr = {'User-Agent': 'Mozilla/5.0 (Windows NT 6.1) AppleWebKit/537.36 (KHTML, like Gecko) Chrome/41.0.2228.0 Safari/537.36'}\n",
    "            req = Request(site,headers=hdr)\n",
    "            page = urlopen(req)\n",
    "            soup = BeautifulSoup(page)\n",
    "            cars=soup.find('div',class_=\"gsc-ta-active gsc-ta-content\").ul\n",
    "            for i in cars:\n",
    "                j=i.find(\"div\",class_=\"contentspace\").find(\"p\",class_=\"contentheight\")\n",
    "                p=j.find(\"span\").text\n",
    "                Off_road.append(p)\n",
    "except:\n",
    "    try:\n",
    "        site= site\n",
    "        hdr = {'User-Agent': 'Mozilla/5.0 (Windows NT 6.1) AppleWebKit/537.36 (KHTML, like Gecko) Chrome/41.0.2228.0 Safari/537.36'}\n",
    "        req = Request(site,headers=hdr)\n",
    "        page = urlopen(req)\n",
    "        soup = BeautifulSoup(page)\n",
    "        cars=soup.find('div',class_=\"gsc-ta-active gsc-ta-content\").ul\n",
    "        for i in cars:\n",
    "            j=i.find(\"div\",class_=\"contentspace\").find(\"p\",class_=\"contentheight\")\n",
    "            p=j.find(\"span\").text\n",
    "            Off_road.append(p)\n",
    "    except:\n",
    "        print()"
   ]
  },
  {
   "cell_type": "code",
   "execution_count": 42,
   "id": "7d34359a",
   "metadata": {},
   "outputs": [],
   "source": [
    "site= link + \"/clearance\"\n",
    "hdr = {'User-Agent': 'Mozilla/5.0 (Windows NT 6.1) AppleWebKit/537.36 (KHTML, like Gecko) Chrome/41.0.2228.0 Safari/537.36'}\n",
    "req = Request(site,headers=hdr)\n",
    "page = urlopen(req)\n",
    "soup = BeautifulSoup(page)"
   ]
  },
  {
   "cell_type": "code",
   "execution_count": 43,
   "id": "3b9f4f9a",
   "metadata": {},
   "outputs": [],
   "source": [
    "try:\n",
    "    ptt=soup.find(\"div\",class_=\"pagination\").ul\n",
    "    pages=ptt.find_all(\"li\")\n",
    "    for q in range(1,len(pages)-1):\n",
    "        if q==1:\n",
    "            site= site\n",
    "            hdr = {'User-Agent': 'Mozilla/5.0 (Windows NT 6.1) AppleWebKit/537.36 (KHTML, like Gecko) Chrome/41.0.2228.0 Safari/537.36'}\n",
    "            req = Request(site,headers=hdr)\n",
    "            page = urlopen(req)\n",
    "            soup = BeautifulSoup(page)\n",
    "            cars=soup.find('div',class_=\"gsc-ta-active gsc-ta-content\").ul\n",
    "            for i in cars:\n",
    "                j=i.find(\"div\",class_=\"contentspace\").find(\"p\",class_=\"contentheight\")\n",
    "                p=j.find(\"span\").text\n",
    "                Off_road.append(p)\n",
    "                \n",
    "        else:\n",
    "            site=site\n",
    "            site=site+'/'+str(q)\n",
    "            hdr = {'User-Agent': 'Mozilla/5.0 (Windows NT 6.1) AppleWebKit/537.36 (KHTML, like Gecko) Chrome/41.0.2228.0 Safari/537.36'}\n",
    "            req = Request(site,headers=hdr)\n",
    "            page = urlopen(req)\n",
    "            soup = BeautifulSoup(page)\n",
    "            cars=soup.find('div',class_=\"gsc-ta-active gsc-ta-content\").ul\n",
    "            for i in cars:\n",
    "                j=i.find(\"div\",class_=\"contentspace\").find(\"p\",class_=\"contentheight\")\n",
    "                p=j.find(\"span\").text\n",
    "                Off_road.append(p)\n",
    "except:\n",
    "    try:\n",
    "        site= site\n",
    "        hdr = {'User-Agent': 'Mozilla/5.0 (Windows NT 6.1) AppleWebKit/537.36 (KHTML, like Gecko) Chrome/41.0.2228.0 Safari/537.36'}\n",
    "        req = Request(site,headers=hdr)\n",
    "        page = urlopen(req)\n",
    "        soup = BeautifulSoup(page)\n",
    "        cars=soup.find('div',class_=\"gsc-ta-active gsc-ta-content\").ul\n",
    "        for i in cars:\n",
    "            j=i.find(\"div\",class_=\"contentspace\").find(\"p\",class_=\"contentheight\")\n",
    "            p=j.find(\"span\").text\n",
    "            Off_road.append(p)\n",
    "    except:\n",
    "        print()"
   ]
  },
  {
   "cell_type": "code",
   "execution_count": 44,
   "id": "15bec714",
   "metadata": {},
   "outputs": [],
   "source": [
    "site= link1 + \"/clearance\"\n",
    "hdr = {'User-Agent': 'Mozilla/5.0 (Windows NT 6.1) AppleWebKit/537.36 (KHTML, like Gecko) Chrome/41.0.2228.0 Safari/537.36'}\n",
    "req = Request(site,headers=hdr)\n",
    "page = urlopen(req)\n",
    "soup = BeautifulSoup(page)\n",
    "try:\n",
    "    sec=soup.find('div',class_='pt-15').ul\n",
    "    list1=sec.find_all('li')\n",
    "    t=list1[1].text.strip(\"\\n\")[:-3]\n",
    "    if re.search(\"Clearance\",t):\n",
    "        sec=soup.find('div',class_='f-rvm').find_all(\"div\",class_=\"ncmt-c\")\n",
    "        for reviews in sec:\n",
    "            review=reviews.find(\"p\").text\n",
    "            Off_road.append(review)\n",
    "except:\n",
    "    print()"
   ]
  },
  {
   "cell_type": "code",
   "execution_count": 45,
   "id": "69f193be",
   "metadata": {},
   "outputs": [],
   "source": [
    "site= link + \"/power\"\n",
    "hdr = {'User-Agent': 'Mozilla/5.0 (Windows NT 6.1) AppleWebKit/537.36 (KHTML, like Gecko) Chrome/41.0.2228.0 Safari/537.36'}\n",
    "req = Request(site,headers=hdr)\n",
    "page = urlopen(req)\n",
    "soup = BeautifulSoup(page)"
   ]
  },
  {
   "cell_type": "code",
   "execution_count": 46,
   "id": "70824181",
   "metadata": {},
   "outputs": [],
   "source": [
    "try:\n",
    "    ptt=soup.find(\"div\",class_=\"pagination\").ul\n",
    "    pages=ptt.find_all(\"li\")\n",
    "    for q in range(1,len(pages)-1):\n",
    "        if q==1:\n",
    "            site= site\n",
    "            hdr = {'User-Agent': 'Mozilla/5.0 (Windows NT 6.1) AppleWebKit/537.36 (KHTML, like Gecko) Chrome/41.0.2228.0 Safari/537.36'}\n",
    "            req = Request(site,headers=hdr)\n",
    "            page = urlopen(req)\n",
    "            soup = BeautifulSoup(page)\n",
    "            cars=soup.find('div',class_=\"gsc-ta-active gsc-ta-content\").ul\n",
    "            for i in cars:\n",
    "                j=i.find(\"div\",class_=\"contentspace\").find(\"p\",class_=\"contentheight\")\n",
    "                p=j.find(\"span\").text\n",
    "                Off_road.append(p)\n",
    "        else:\n",
    "            site=site\n",
    "            site=site+'/'+str(q)\n",
    "            hdr = {'User-Agent': 'Mozilla/5.0 (Windows NT 6.1) AppleWebKit/537.36 (KHTML, like Gecko) Chrome/41.0.2228.0 Safari/537.36'}\n",
    "            req = Request(site,headers=hdr)\n",
    "            page = urlopen(req)\n",
    "            soup = BeautifulSoup(page)\n",
    "            cars=soup.find('div',class_=\"gsc-ta-active gsc-ta-content\").ul\n",
    "            for i in cars:\n",
    "                j=i.find(\"div\",class_=\"contentspace\").find(\"p\",class_=\"contentheight\")\n",
    "                p=j.find(\"span\").text\n",
    "                Off_road.append(p)\n",
    "except:\n",
    "    try:\n",
    "        site= site\n",
    "        hdr = {'User-Agent': 'Mozilla/5.0 (Windows NT 6.1) AppleWebKit/537.36 (KHTML, like Gecko) Chrome/41.0.2228.0 Safari/537.36'}\n",
    "        req = Request(site,headers=hdr)\n",
    "        page = urlopen(req)\n",
    "        soup = BeautifulSoup(page)\n",
    "        cars=soup.find('div',class_=\"gsc-ta-active gsc-ta-content\").ul\n",
    "        for i in cars:\n",
    "            j=i.find(\"div\",class_=\"contentspace\").find(\"p\",class_=\"contentheight\")\n",
    "            p=j.find(\"span\").text\n",
    "            Off_road.append(p)\n",
    "    except:\n",
    "        print()"
   ]
  },
  {
   "cell_type": "code",
   "execution_count": 47,
   "id": "da28b322",
   "metadata": {},
   "outputs": [],
   "source": [
    "site= link1 + \"/power\"\n",
    "hdr = {'User-Agent': 'Mozilla/5.0 (Windows NT 6.1) AppleWebKit/537.36 (KHTML, like Gecko) Chrome/41.0.2228.0 Safari/537.36'}\n",
    "req = Request(site,headers=hdr)\n",
    "page = urlopen(req)\n",
    "soup = BeautifulSoup(page)\n",
    "try:\n",
    "    sec=soup.find('div',class_='pt-15').ul\n",
    "    list1=sec.find_all('li')\n",
    "    t=list1[1].text.strip(\"\\n\")[:-3]\n",
    "    if re.search(\"Power\",t):\n",
    "        sec=soup.find('div',class_='f-rvm').find_all(\"div\",class_=\"ncmt-c\")\n",
    "        for reviews in sec:\n",
    "            review=reviews.find(\"p\").text\n",
    "            Off_road.append(review)\n",
    "except:\n",
    "    print()"
   ]
  },
  {
   "cell_type": "code",
   "execution_count": 48,
   "id": "15b9c5ac",
   "metadata": {},
   "outputs": [],
   "source": [
    "site= link1 + \"/torque\"\n",
    "hdr = {'User-Agent': 'Mozilla/5.0 (Windows NT 6.1) AppleWebKit/537.36 (KHTML, like Gecko) Chrome/41.0.2228.0 Safari/537.36'}\n",
    "req = Request(site,headers=hdr)\n",
    "page = urlopen(req)\n",
    "soup = BeautifulSoup(page)"
   ]
  },
  {
   "cell_type": "code",
   "execution_count": 49,
   "id": "01523b72",
   "metadata": {},
   "outputs": [
    {
     "name": "stdout",
     "output_type": "stream",
     "text": [
      "\n"
     ]
    }
   ],
   "source": [
    "try:\n",
    "    ptt=soup.find(\"div\",class_=\"pagination\").ul\n",
    "    pages=ptt.find_all(\"li\")\n",
    "    for q in range(1,len(pages)-1):\n",
    "        if q==1:\n",
    "            site= site\n",
    "            hdr = {'User-Agent': 'Mozilla/5.0 (Windows NT 6.1) AppleWebKit/537.36 (KHTML, like Gecko) Chrome/41.0.2228.0 Safari/537.36'}\n",
    "            req = Request(site,headers=hdr)\n",
    "            page = urlopen(req)\n",
    "            soup = BeautifulSoup(page)\n",
    "            cars=soup.find('div',class_=\"gsc-ta-active gsc-ta-content\").ul\n",
    "            for i in cars:\n",
    "                j=i.find(\"div\",class_=\"contentspace\").find(\"p\",class_=\"contentheight\")\n",
    "                p=j.find(\"span\").text\n",
    "                Off_road.append(p)\n",
    "        else:\n",
    "            site=site\n",
    "            site=site+'/'+str(q)\n",
    "            hdr = {'User-Agent': 'Mozilla/5.0 (Windows NT 6.1) AppleWebKit/537.36 (KHTML, like Gecko) Chrome/41.0.2228.0 Safari/537.36'}\n",
    "            req = Request(site,headers=hdr)\n",
    "            page = urlopen(req)\n",
    "            soup = BeautifulSoup(page)\n",
    "            cars=soup.find('div',class_=\"gsc-ta-active gsc-ta-content\").ul\n",
    "            for i in cars:\n",
    "                j=i.find(\"div\",class_=\"contentspace\").find(\"p\",class_=\"contentheight\")\n",
    "                p=j.find(\"span\").text\n",
    "                Off_road.append(p)\n",
    "except:\n",
    "    try:\n",
    "        site= site\n",
    "        hdr = {'User-Agent': 'Mozilla/5.0 (Windows NT 6.1) AppleWebKit/537.36 (KHTML, like Gecko) Chrome/41.0.2228.0 Safari/537.36'}\n",
    "        req = Request(site,headers=hdr)\n",
    "        page = urlopen(req)\n",
    "        soup = BeautifulSoup(page)\n",
    "        cars=soup.find('div',class_=\"gsc-ta-active gsc-ta-content\").ul\n",
    "        for i in cars:\n",
    "            j=i.find(\"div\",class_=\"contentspace\").find(\"p\",class_=\"contentheight\")\n",
    "            p=j.find(\"span\").text\n",
    "            Off_road.append(p)\n",
    "    except:\n",
    "        print()"
   ]
  },
  {
   "cell_type": "code",
   "execution_count": 50,
   "id": "760588ba",
   "metadata": {},
   "outputs": [],
   "source": [
    "site= link1 + \"/torque\"\n",
    "hdr = {'User-Agent': 'Mozilla/5.0 (Windows NT 6.1) AppleWebKit/537.36 (KHTML, like Gecko) Chrome/41.0.2228.0 Safari/537.36'}\n",
    "req = Request(site,headers=hdr)\n",
    "page = urlopen(req)\n",
    "soup = BeautifulSoup(page)\n",
    "try:\n",
    "    sec=soup.find('div',class_='pt-15').ul\n",
    "    list1=sec.find_all('li')\n",
    "    t=list1[1].text.strip(\"\\n\")[:-3]\n",
    "    if re.search(\"Torque\",t):\n",
    "        sec=soup.find('div',class_='f-rvm').find_all(\"div\",class_=\"ncmt-c\")\n",
    "        for reviews in sec:\n",
    "            review=reviews.find(\"p\").text\n",
    "            Off_road.append(review)\n",
    "except:\n",
    "    print()"
   ]
  },
  {
   "cell_type": "code",
   "execution_count": 51,
   "id": "1badb8bb",
   "metadata": {},
   "outputs": [
    {
     "data": {
      "text/plain": [
       "19"
      ]
     },
     "execution_count": 51,
     "metadata": {},
     "output_type": "execute_result"
    }
   ],
   "source": [
    "len(Off_road)"
   ]
  },
  {
   "cell_type": "markdown",
   "id": "4c61fbd8",
   "metadata": {},
   "source": [
    "# Streering"
   ]
  },
  {
   "cell_type": "code",
   "execution_count": 52,
   "id": "95d7f5bd",
   "metadata": {},
   "outputs": [],
   "source": [
    "site= link + \"/steering\"\n",
    "hdr = {'User-Agent': 'Mozilla/5.0 (Windows NT 6.1) AppleWebKit/537.36 (KHTML, like Gecko) Chrome/41.0.2228.0 Safari/537.36'}\n",
    "req = Request(site,headers=hdr)\n",
    "page = urlopen(req)\n",
    "soup = BeautifulSoup(page)\n",
    "Streering=[]"
   ]
  },
  {
   "cell_type": "code",
   "execution_count": 53,
   "id": "96c216dc",
   "metadata": {},
   "outputs": [],
   "source": [
    "try:\n",
    "    ptt=soup.find(\"div\",class_=\"pagination\").ul\n",
    "    pages=ptt.find_all(\"li\")\n",
    "    for q in range(1,len(pages)-1):\n",
    "        if q==1:\n",
    "            site= site\n",
    "            hdr = {'User-Agent': 'Mozilla/5.0 (Windows NT 6.1) AppleWebKit/537.36 (KHTML, like Gecko) Chrome/41.0.2228.0 Safari/537.36'}\n",
    "            req = Request(site,headers=hdr)\n",
    "            page = urlopen(req)\n",
    "            soup = BeautifulSoup(page)\n",
    "            cars=soup.find('div',class_=\"gsc-ta-active gsc-ta-content\").ul\n",
    "            for i in cars:\n",
    "                j=i.find(\"div\",class_=\"contentspace\").find(\"p\",class_=\"contentheight\")\n",
    "                p=j.find(\"span\").text\n",
    "                Streering.append(p)\n",
    "        else:\n",
    "            site=site\n",
    "            site=site+'/'+str(q)\n",
    "            hdr = {'User-Agent': 'Mozilla/5.0 (Windows NT 6.1) AppleWebKit/537.36 (KHTML, like Gecko) Chrome/41.0.2228.0 Safari/537.36'}\n",
    "            req = Request(site,headers=hdr)\n",
    "            page = urlopen(req)\n",
    "            soup = BeautifulSoup(page)\n",
    "            cars=soup.find('div',class_=\"gsc-ta-active gsc-ta-content\").ul\n",
    "            for i in cars:\n",
    "                j=i.find(\"div\",class_=\"contentspace\").find(\"p\",class_=\"contentheight\")\n",
    "                p=j.find(\"span\").text\n",
    "                Streering.append(p)\n",
    "except:\n",
    "    try:\n",
    "        site= site\n",
    "        hdr = {'User-Agent': 'Mozilla/5.0 (Windows NT 6.1) AppleWebKit/537.36 (KHTML, like Gecko) Chrome/41.0.2228.0 Safari/537.36'}\n",
    "        req = Request(site,headers=hdr)\n",
    "        page = urlopen(req)\n",
    "        soup = BeautifulSoup(page)\n",
    "        cars=soup.find('div',class_=\"gsc-ta-active gsc-ta-content\").ul\n",
    "        for i in cars:\n",
    "            j=i.find(\"div\",class_=\"contentspace\").find(\"p\",class_=\"contentheight\")\n",
    "            p=j.find(\"span\").text\n",
    "            Streering.append(p)\n",
    "    except:\n",
    "        print()"
   ]
  },
  {
   "cell_type": "code",
   "execution_count": 54,
   "id": "6cde7ed3",
   "metadata": {},
   "outputs": [],
   "source": [
    "site= link + \"/steering-wheel\"\n",
    "hdr = {'User-Agent': 'Mozilla/5.0 (Windows NT 6.1) AppleWebKit/537.36 (KHTML, like Gecko) Chrome/41.0.2228.0 Safari/537.36'}\n",
    "req = Request(site,headers=hdr)\n",
    "page = urlopen(req)\n",
    "soup = BeautifulSoup(page)"
   ]
  },
  {
   "cell_type": "code",
   "execution_count": 55,
   "id": "9a75b21f",
   "metadata": {},
   "outputs": [
    {
     "name": "stdout",
     "output_type": "stream",
     "text": [
      "\n"
     ]
    }
   ],
   "source": [
    "try:\n",
    "    ptt=soup.find(\"div\",class_=\"pagination\").ul\n",
    "    pages=ptt.find_all(\"li\")\n",
    "    for q in range(1,len(pages)-1):\n",
    "        if q==1:\n",
    "            site= site\n",
    "            hdr = {'User-Agent': 'Mozilla/5.0 (Windows NT 6.1) AppleWebKit/537.36 (KHTML, like Gecko) Chrome/41.0.2228.0 Safari/537.36'}\n",
    "            req = Request(site,headers=hdr)\n",
    "            page = urlopen(req)\n",
    "            soup = BeautifulSoup(page)\n",
    "            cars=soup.find('div',class_=\"gsc-ta-active gsc-ta-content\").ul\n",
    "            for i in cars:\n",
    "                j=i.find(\"div\",class_=\"contentspace\").find(\"p\",class_=\"contentheight\")\n",
    "                p=j.find(\"span\").text\n",
    "                Streering.append(p)\n",
    "        else:\n",
    "            site=site\n",
    "            site=site+'/'+str(q)\n",
    "            hdr = {'User-Agent': 'Mozilla/5.0 (Windows NT 6.1) AppleWebKit/537.36 (KHTML, like Gecko) Chrome/41.0.2228.0 Safari/537.36'}\n",
    "            req = Request(site,headers=hdr)\n",
    "            page = urlopen(req)\n",
    "            soup = BeautifulSoup(page)\n",
    "            cars=soup.find('div',class_=\"gsc-ta-active gsc-ta-content\").ul\n",
    "            for i in cars:\n",
    "                j=i.find(\"div\",class_=\"contentspace\").find(\"p\",class_=\"contentheight\")\n",
    "                p=j.find(\"span\").text\n",
    "                Streering.append(p)\n",
    "except:\n",
    "    try:\n",
    "        site= site\n",
    "        hdr = {'User-Agent': 'Mozilla/5.0 (Windows NT 6.1) AppleWebKit/537.36 (KHTML, like Gecko) Chrome/41.0.2228.0 Safari/537.36'}\n",
    "        req = Request(site,headers=hdr)\n",
    "        page = urlopen(req)\n",
    "        soup = BeautifulSoup(page)\n",
    "        cars=soup.find('div',class_=\"gsc-ta-active gsc-ta-content\").ul\n",
    "        for i in cars:\n",
    "            j=i.find(\"div\",class_=\"contentspace\").find(\"p\",class_=\"contentheight\")\n",
    "            p=j.find(\"span\").text\n",
    "            Streering.append(p)\n",
    "    except:\n",
    "        print()"
   ]
  },
  {
   "cell_type": "code",
   "execution_count": 56,
   "id": "874f3793",
   "metadata": {},
   "outputs": [
    {
     "data": {
      "text/plain": [
       "2"
      ]
     },
     "execution_count": 56,
     "metadata": {},
     "output_type": "execute_result"
    }
   ],
   "source": [
    "len(Streering)"
   ]
  },
  {
   "cell_type": "code",
   "execution_count": 57,
   "id": "3c3dc354",
   "metadata": {},
   "outputs": [],
   "source": [
    "df=pd.DataFrame({\"Streering\":Streering})"
   ]
  },
  {
   "cell_type": "code",
   "execution_count": 58,
   "id": "94ad7e12",
   "metadata": {},
   "outputs": [],
   "source": [
    "df.to_csv(\"Streering.csv\")"
   ]
  },
  {
   "cell_type": "markdown",
   "id": "6dc0878c",
   "metadata": {},
   "source": [
    "# Ride"
   ]
  },
  {
   "cell_type": "code",
   "execution_count": 59,
   "id": "c0fdf005",
   "metadata": {},
   "outputs": [],
   "source": [
    "site= link + \"/steering\"\n",
    "hdr = {'User-Agent': 'Mozilla/5.0 (Windows NT 6.1) AppleWebKit/537.36 (KHTML, like Gecko) Chrome/41.0.2228.0 Safari/537.36'}\n",
    "req = Request(site,headers=hdr)\n",
    "page = urlopen(req)\n",
    "soup = BeautifulSoup(page)\n",
    "Ride=[]"
   ]
  },
  {
   "cell_type": "code",
   "execution_count": 60,
   "id": "29c65f87",
   "metadata": {},
   "outputs": [],
   "source": [
    "try:\n",
    "    ptt=soup.find(\"div\",class_=\"pagination\").ul\n",
    "    pages=ptt.find_all(\"li\")\n",
    "    for q in range(1,len(pages)-1):\n",
    "        if q==1:\n",
    "            site= site\n",
    "            hdr = {'User-Agent': 'Mozilla/5.0 (Windows NT 6.1) AppleWebKit/537.36 (KHTML, like Gecko) Chrome/41.0.2228.0 Safari/537.36'}\n",
    "            req = Request(site,headers=hdr)\n",
    "            page = urlopen(req)\n",
    "            soup = BeautifulSoup(page)\n",
    "            cars=soup.find('div',class_=\"gsc-ta-active gsc-ta-content\").ul\n",
    "            for i in cars:\n",
    "                j=i.find(\"div\",class_=\"contentspace\").find(\"p\",class_=\"contentheight\")\n",
    "                p=j.find(\"span\").text\n",
    "                Ride.append(p)\n",
    "        else:\n",
    "            site=site\n",
    "            site=site+'/'+str(q)\n",
    "            hdr = {'User-Agent': 'Mozilla/5.0 (Windows NT 6.1) AppleWebKit/537.36 (KHTML, like Gecko) Chrome/41.0.2228.0 Safari/537.36'}\n",
    "            req = Request(site,headers=hdr)\n",
    "            page = urlopen(req)\n",
    "            soup = BeautifulSoup(page)\n",
    "            cars=soup.find('div',class_=\"gsc-ta-active gsc-ta-content\").ul\n",
    "            for i in cars:\n",
    "                j=i.find(\"div\",class_=\"contentspace\").find(\"p\",class_=\"contentheight\")\n",
    "                p=j.find(\"span\").text\n",
    "                Ride.append(p)\n",
    "except:\n",
    "    try:\n",
    "\n",
    "        site= site\n",
    "        hdr = {'User-Agent': 'Mozilla/5.0 (Windows NT 6.1) AppleWebKit/537.36 (KHTML, like Gecko) Chrome/41.0.2228.0 Safari/537.36'}\n",
    "        req = Request(site,headers=hdr)\n",
    "        page = urlopen(req)\n",
    "        soup = BeautifulSoup(page)\n",
    "        cars=soup.find('div',class_=\"gsc-ta-active gsc-ta-content\").ul\n",
    "        for i in cars:\n",
    "            j=i.find(\"div\",class_=\"contentspace\").find(\"p\",class_=\"contentheight\")\n",
    "            p=j.find(\"span\").text\n",
    "            Ride.append(p)\n",
    "    except:\n",
    "        print()"
   ]
  },
  {
   "cell_type": "code",
   "execution_count": 61,
   "id": "816a51eb",
   "metadata": {},
   "outputs": [],
   "source": [
    "site= link + \"/driver\"\n",
    "hdr = {'User-Agent': 'Mozilla/5.0 (Windows NT 6.1) AppleWebKit/537.36 (KHTML, like Gecko) Chrome/41.0.2228.0 Safari/537.36'}\n",
    "req = Request(site,headers=hdr)\n",
    "page = urlopen(req)\n",
    "soup = BeautifulSoup(page)    "
   ]
  },
  {
   "cell_type": "code",
   "execution_count": 62,
   "id": "2aec174c",
   "metadata": {},
   "outputs": [],
   "source": [
    "try:\n",
    "    ptt=soup.find(\"div\",class_=\"pagination\").ul\n",
    "    pages=ptt.find_all(\"li\")\n",
    "    for q in range(1,len(pages)-1):\n",
    "        if q==1:\n",
    "            site= site\n",
    "            hdr = {'User-Agent': 'Mozilla/5.0 (Windows NT 6.1) AppleWebKit/537.36 (KHTML, like Gecko) Chrome/41.0.2228.0 Safari/537.36'}\n",
    "            req = Request(site,headers=hdr)\n",
    "            page = urlopen(req)\n",
    "            soup = BeautifulSoup(page)\n",
    "            cars=soup.find('div',class_=\"gsc-ta-active gsc-ta-content\").ul\n",
    "            for i in cars:\n",
    "                j=i.find(\"div\",class_=\"contentspace\").find(\"p\",class_=\"contentheight\")\n",
    "                p=j.find(\"span\").text\n",
    "                Ride.append(p)\n",
    "        else:\n",
    "            site=site\n",
    "            site=site+'/'+str(q)\n",
    "            hdr = {'User-Agent': 'Mozilla/5.0 (Windows NT 6.1) AppleWebKit/537.36 (KHTML, like Gecko) Chrome/41.0.2228.0 Safari/537.36'}\n",
    "            req = Request(site,headers=hdr)\n",
    "            page = urlopen(req)\n",
    "            soup = BeautifulSoup(page)\n",
    "            cars=soup.find('div',class_=\"gsc-ta-active gsc-ta-content\").ul\n",
    "            for i in cars:\n",
    "                j=i.find(\"div\",class_=\"contentspace\").find(\"p\",class_=\"contentheight\")\n",
    "                p=j.find(\"span\").text\n",
    "                Ride.append(p)\n",
    "except:\n",
    "    try:\n",
    "        site= site\n",
    "        hdr = {'User-Agent': 'Mozilla/5.0 (Windows NT 6.1) AppleWebKit/537.36 (KHTML, like Gecko) Chrome/41.0.2228.0 Safari/537.36'}\n",
    "        req = Request(site,headers=hdr)\n",
    "        page = urlopen(req)\n",
    "        soup = BeautifulSoup(page)\n",
    "        cars=soup.find('div',class_=\"gsc-ta-active gsc-ta-content\").ul\n",
    "        for i in cars:\n",
    "            j=i.find(\"div\",class_=\"contentspace\").find(\"p\",class_=\"contentheight\")\n",
    "            p=j.find(\"span\").text\n",
    "            Ride.append(p)\n",
    "    except:\n",
    "        print()"
   ]
  },
  {
   "cell_type": "code",
   "execution_count": 63,
   "id": "e485d64f",
   "metadata": {},
   "outputs": [],
   "source": [
    "site= link1 + \"/driver\"\n",
    "hdr = {'User-Agent': 'Mozilla/5.0 (Windows NT 6.1) AppleWebKit/537.36 (KHTML, like Gecko) Chrome/41.0.2228.0 Safari/537.36'}\n",
    "req = Request(site,headers=hdr)\n",
    "page = urlopen(req)\n",
    "soup = BeautifulSoup(page)\n",
    "try:\n",
    "    sec=soup.find('div',class_='pt-15').ul\n",
    "    list1=sec.find_all('li')\n",
    "    t=list1[1].text.strip(\"\\n\")[:-3]\n",
    "    if re.search(\"Driver\",t):\n",
    "        sec=soup.find('div',class_='f-rvm').find_all(\"div\",class_=\"ncmt-c\")\n",
    "        for reviews in sec:\n",
    "            review=reviews.find(\"p\").text\n",
    "            Ride.append(review)\n",
    "except:\n",
    "    print()"
   ]
  },
  {
   "cell_type": "code",
   "execution_count": 64,
   "id": "77008807",
   "metadata": {},
   "outputs": [
    {
     "data": {
      "text/plain": [
       "6"
      ]
     },
     "execution_count": 64,
     "metadata": {},
     "output_type": "execute_result"
    }
   ],
   "source": [
    "len(Ride)"
   ]
  },
  {
   "cell_type": "code",
   "execution_count": 65,
   "id": "de960cc2",
   "metadata": {},
   "outputs": [],
   "source": [
    "df=pd.DataFrame({\"Ride\":Ride})"
   ]
  },
  {
   "cell_type": "code",
   "execution_count": 66,
   "id": "6ceb26bb",
   "metadata": {},
   "outputs": [],
   "source": [
    "df.to_csv(\"Ride.csv\")"
   ]
  },
  {
   "cell_type": "markdown",
   "id": "30b47723",
   "metadata": {},
   "source": [
    "# Noice"
   ]
  },
  {
   "cell_type": "code",
   "execution_count": 67,
   "id": "782b25d9",
   "metadata": {},
   "outputs": [],
   "source": [
    "site= link + \"/noise\"\n",
    "hdr = {'User-Agent': 'Mozilla/5.0 (Windows NT 6.1) AppleWebKit/537.36 (KHTML, like Gecko) Chrome/41.0.2228.0 Safari/537.36'}\n",
    "req = Request(site,headers=hdr)\n",
    "page = urlopen(req)\n",
    "soup = BeautifulSoup(page)\n",
    "Noice=[]"
   ]
  },
  {
   "cell_type": "code",
   "execution_count": 68,
   "id": "f6076a14",
   "metadata": {},
   "outputs": [],
   "source": [
    "try:\n",
    "    ptt=soup.find(\"div\",class_=\"pagination\").ul\n",
    "    pages=ptt.find_all(\"li\")\n",
    "    for q in range(1,len(pages)-1):\n",
    "        if q==1:\n",
    "            site= site\n",
    "            hdr = {'User-Agent': 'Mozilla/5.0 (Windows NT 6.1) AppleWebKit/537.36 (KHTML, like Gecko) Chrome/41.0.2228.0 Safari/537.36'}\n",
    "            req = Request(site,headers=hdr)\n",
    "            page = urlopen(req)\n",
    "            soup = BeautifulSoup(page)\n",
    "            cars=soup.find('div',class_=\"gsc-ta-active gsc-ta-content\").ul\n",
    "            for i in cars:\n",
    "                j=i.find(\"div\",class_=\"contentspace\").find(\"p\",class_=\"contentheight\")\n",
    "                p=j.find(\"span\").text\n",
    "                Noice.append(p)\n",
    "        else:\n",
    "            site=site\n",
    "            site=site+'/'+str(q)\n",
    "            hdr = {'User-Agent': 'Mozilla/5.0 (Windows NT 6.1) AppleWebKit/537.36 (KHTML, like Gecko) Chrome/41.0.2228.0 Safari/537.36'}\n",
    "            req = Request(site,headers=hdr)\n",
    "            page = urlopen(req)\n",
    "            soup = BeautifulSoup(page)\n",
    "            cars=soup.find('div',class_=\"gsc-ta-active gsc-ta-content\").ul\n",
    "            for i in cars:\n",
    "                j=i.find(\"div\",class_=\"contentspace\").find(\"p\",class_=\"contentheight\")\n",
    "                p=j.find(\"span\").text\n",
    "                Noice.append(p)\n",
    "except:\n",
    "    try:\n",
    "        site= site\n",
    "        hdr = {'User-Agent': 'Mozilla/5.0 (Windows NT 6.1) AppleWebKit/537.36 (KHTML, like Gecko) Chrome/41.0.2228.0 Safari/537.36'}\n",
    "        req = Request(site,headers=hdr)\n",
    "        page = urlopen(req)\n",
    "        soup = BeautifulSoup(page)\n",
    "        cars=soup.find('div',class_=\"gsc-ta-active gsc-ta-content\").ul\n",
    "        for i in cars:\n",
    "            j=i.find(\"div\",class_=\"contentspace\").find(\"p\",class_=\"contentheight\")\n",
    "            p=j.find(\"span\").text\n",
    "            Noice.append(p)\n",
    "    except:\n",
    "        print()"
   ]
  },
  {
   "cell_type": "code",
   "execution_count": 69,
   "id": "65cfe9bb",
   "metadata": {},
   "outputs": [],
   "source": [
    "site= link1 + \"/noise\"\n",
    "hdr = {'User-Agent': 'Mozilla/5.0 (Windows NT 6.1) AppleWebKit/537.36 (KHTML, like Gecko) Chrome/41.0.2228.0 Safari/537.36'}\n",
    "req = Request(site,headers=hdr)\n",
    "page = urlopen(req)\n",
    "soup = BeautifulSoup(page)\n",
    "try:\n",
    "    sec=soup.find('div',class_='pt-15').ul\n",
    "    list1=sec.find_all('li')\n",
    "    t=list1[1].text.strip(\"\\n\")[:-3]\n",
    "    if re.search(\"Noise\",t):\n",
    "        sec=soup.find('div',class_='f-rvm').find_all(\"div\",class_=\"ncmt-c\")\n",
    "        for reviews in sec:\n",
    "            review=reviews.find(\"p\").text\n",
    "            Noice.append(review)\n",
    "except:\n",
    "    print()"
   ]
  },
  {
   "cell_type": "code",
   "execution_count": 70,
   "id": "fbbdf64e",
   "metadata": {},
   "outputs": [
    {
     "data": {
      "text/plain": [
       "5"
      ]
     },
     "execution_count": 70,
     "metadata": {},
     "output_type": "execute_result"
    }
   ],
   "source": [
    "len(Noice)"
   ]
  },
  {
   "cell_type": "markdown",
   "id": "b7005dfc",
   "metadata": {},
   "source": [
    "# Visibility & Package"
   ]
  },
  {
   "cell_type": "code",
   "execution_count": 71,
   "id": "b8f2a9d9",
   "metadata": {},
   "outputs": [],
   "source": [
    "site= link + \"/headlamp\"\n",
    "hdr = {'User-Agent': 'Mozilla/5.0 (Windows NT 6.1) AppleWebKit/537.36 (KHTML, like Gecko) Chrome/41.0.2228.0 Safari/537.36'}\n",
    "req = Request(site,headers=hdr)\n",
    "page = urlopen(req)\n",
    "soup = BeautifulSoup(page)\n",
    "Vis=[]"
   ]
  },
  {
   "cell_type": "code",
   "execution_count": 72,
   "id": "a8e0ca2e",
   "metadata": {},
   "outputs": [],
   "source": [
    "try:\n",
    "    ptt=soup.find(\"div\",class_=\"pagination\").ul\n",
    "    pages=ptt.find_all(\"li\")\n",
    "    for q in range(1,len(pages)-1):\n",
    "        if q==1:\n",
    "            site= site\n",
    "            hdr = {'User-Agent': 'Mozilla/5.0 (Windows NT 6.1) AppleWebKit/537.36 (KHTML, like Gecko) Chrome/41.0.2228.0 Safari/537.36'}\n",
    "            req = Request(site,headers=hdr)\n",
    "            page = urlopen(req)\n",
    "            soup = BeautifulSoup(page)\n",
    "            cars=soup.find('div',class_=\"gsc-ta-active gsc-ta-content\").ul\n",
    "            for i in cars:\n",
    "                j=i.find(\"div\",class_=\"contentspace\").find(\"p\",class_=\"contentheight\")\n",
    "                p=j.find(\"span\").text\n",
    "                Vis.append(p)\n",
    "        else:\n",
    "            site=site\n",
    "            site=site+'/'+str(q)\n",
    "            hdr = {'User-Agent': 'Mozilla/5.0 (Windows NT 6.1) AppleWebKit/537.36 (KHTML, like Gecko) Chrome/41.0.2228.0 Safari/537.36'}\n",
    "            req = Request(site,headers=hdr)\n",
    "            page = urlopen(req)\n",
    "            soup = BeautifulSoup(page)\n",
    "            cars=soup.find('div',class_=\"gsc-ta-active gsc-ta-content\").ul\n",
    "            for i in cars:\n",
    "                j=i.find(\"div\",class_=\"contentspace\").find(\"p\",class_=\"contentheight\")\n",
    "                p=j.find(\"span\").text\n",
    "                Vis.append(p)\n",
    "except:\n",
    "    try:\n",
    "        site= site\n",
    "        hdr = {'User-Agent': 'Mozilla/5.0 (Windows NT 6.1) AppleWebKit/537.36 (KHTML, like Gecko) Chrome/41.0.2228.0 Safari/537.36'}\n",
    "        req = Request(site,headers=hdr)\n",
    "        page = urlopen(req)\n",
    "        soup = BeautifulSoup(page)\n",
    "        cars=soup.find('div',class_=\"gsc-ta-active gsc-ta-content\").ul\n",
    "        for i in cars:\n",
    "            j=i.find(\"div\",class_=\"contentspace\").find(\"p\",class_=\"contentheight\")\n",
    "            p=j.find(\"span\").text\n",
    "            Vis.append(p)\n",
    "    except:\n",
    "        print()"
   ]
  },
  {
   "cell_type": "code",
   "execution_count": 73,
   "id": "df7acb7b",
   "metadata": {},
   "outputs": [],
   "source": [
    "site= link1 + \"/lights\"\n",
    "hdr = {'User-Agent': 'Mozilla/5.0 (Windows NT 6.1) AppleWebKit/537.36 (KHTML, like Gecko) Chrome/41.0.2228.0 Safari/537.36'}\n",
    "req = Request(site,headers=hdr)\n",
    "page = urlopen(req)\n",
    "soup = BeautifulSoup(page)\n",
    "try:\n",
    "    sec=soup.find('div',class_='pt-15').ul\n",
    "    list1=sec.find_all('li')\n",
    "    t=list1[1].text.strip(\"\\n\")[:-3]\n",
    "    if re.search(\"Lights\",t):\n",
    "        sec=soup.find('div',class_='f-rvm').find_all(\"div\",class_=\"ncmt-c\")\n",
    "        for reviews in sec:\n",
    "            review=reviews.find(\"p\").text\n",
    "            Vis.append(review)\n",
    "except:\n",
    "    print()"
   ]
  },
  {
   "cell_type": "code",
   "execution_count": 74,
   "id": "a48a41ca",
   "metadata": {},
   "outputs": [
    {
     "data": {
      "text/plain": [
       "4"
      ]
     },
     "execution_count": 74,
     "metadata": {},
     "output_type": "execute_result"
    }
   ],
   "source": [
    "len(Vis)"
   ]
  },
  {
   "cell_type": "markdown",
   "id": "a4ab9233",
   "metadata": {},
   "source": [
    "# Braking"
   ]
  },
  {
   "cell_type": "code",
   "execution_count": 75,
   "id": "bddc92df",
   "metadata": {},
   "outputs": [],
   "source": [
    "site= link + \"/safety\"\n",
    "hdr = {'User-Agent': 'Mozilla/5.0 (Windows NT 6.1) AppleWebKit/537.36 (KHTML, like Gecko) Chrome/41.0.2228.0 Safari/537.36'}\n",
    "req = Request(site,headers=hdr)\n",
    "page = urlopen(req)\n",
    "soup = BeautifulSoup(page)\n",
    "Braking=[]"
   ]
  },
  {
   "cell_type": "code",
   "execution_count": 76,
   "id": "bb18bae7",
   "metadata": {},
   "outputs": [],
   "source": [
    "try:\n",
    "    ptt=soup.find(\"div\",class_=\"pagination\").ul\n",
    "    pages=ptt.find_all(\"li\")\n",
    "    for q in range(1,len(pages)-1):\n",
    "        if q==1:\n",
    "            site= site\n",
    "            hdr = {'User-Agent': 'Mozilla/5.0 (Windows NT 6.1) AppleWebKit/537.36 (KHTML, like Gecko) Chrome/41.0.2228.0 Safari/537.36'}\n",
    "            req = Request(site,headers=hdr)\n",
    "            page = urlopen(req)\n",
    "            soup = BeautifulSoup(page)\n",
    "            cars=soup.find('div',class_=\"gsc-ta-active gsc-ta-content\").ul\n",
    "            for i in cars:\n",
    "                j=i.find(\"div\",class_=\"contentspace\").find(\"p\",class_=\"contentheight\")\n",
    "                p=j.find(\"span\").text\n",
    "                Braking.append(p)\n",
    "        else:\n",
    "            site=site\n",
    "            site=site+'/'+str(q)\n",
    "            hdr = {'User-Agent': 'Mozilla/5.0 (Windows NT 6.1) AppleWebKit/537.36 (KHTML, like Gecko) Chrome/41.0.2228.0 Safari/537.36'}\n",
    "            req = Request(site,headers=hdr)\n",
    "            page = urlopen(req)\n",
    "            soup = BeautifulSoup(page)\n",
    "            cars=soup.find('div',class_=\"gsc-ta-active gsc-ta-content\").ul\n",
    "            for i in cars:\n",
    "                j=i.find(\"div\",class_=\"contentspace\").find(\"p\",class_=\"contentheight\")\n",
    "                p=j.find(\"span\").text\n",
    "                Braking.append(p)\n",
    "except:\n",
    "    try:\n",
    "        site= site\n",
    "        hdr = {'User-Agent': 'Mozilla/5.0 (Windows NT 6.1) AppleWebKit/537.36 (KHTML, like Gecko) Chrome/41.0.2228.0 Safari/537.36'}\n",
    "        req = Request(site,headers=hdr)\n",
    "        page = urlopen(req)\n",
    "        soup = BeautifulSoup(page)\n",
    "        cars=soup.find('div',class_=\"gsc-ta-active gsc-ta-content\").ul\n",
    "        for i in cars:\n",
    "            j=i.find(\"div\",class_=\"contentspace\").find(\"p\",class_=\"contentheight\")\n",
    "            p=j.find(\"span\").text\n",
    "            Braking.append(p)\n",
    "    except:\n",
    "        print()"
   ]
  },
  {
   "cell_type": "code",
   "execution_count": 77,
   "id": "ae026352",
   "metadata": {},
   "outputs": [],
   "source": [
    "site= link1 + \"/safety\"\n",
    "hdr = {'User-Agent': 'Mozilla/5.0 (Windows NT 6.1) AppleWebKit/537.36 (KHTML, like Gecko) Chrome/41.0.2228.0 Safari/537.36'}\n",
    "req = Request(site,headers=hdr)\n",
    "page = urlopen(req)\n",
    "soup = BeautifulSoup(page)\n",
    "try:\n",
    "    sec=soup.find('div',class_='pt-15').ul\n",
    "    list1=sec.find_all('li')\n",
    "    t=list1[1].text.strip(\"\\n\")[:-3]\n",
    "    if re.search(\"Safety\",t):\n",
    "        sec=soup.find('div',class_='f-rvm').find_all(\"div\",class_=\"ncmt-c\")\n",
    "        for reviews in sec:\n",
    "            review=reviews.find(\"p\").text\n",
    "            Braking.append(review)\n",
    "except:\n",
    "    print()"
   ]
  },
  {
   "cell_type": "code",
   "execution_count": 78,
   "id": "8b77d58b",
   "metadata": {},
   "outputs": [
    {
     "data": {
      "text/plain": [
       "18"
      ]
     },
     "execution_count": 78,
     "metadata": {},
     "output_type": "execute_result"
    }
   ],
   "source": [
    "len(Braking)"
   ]
  },
  {
   "cell_type": "markdown",
   "id": "53c6bfbc",
   "metadata": {},
   "source": [
    "# Software Feature"
   ]
  },
  {
   "cell_type": "code",
   "execution_count": 79,
   "id": "e151086a",
   "metadata": {},
   "outputs": [],
   "source": [
    "site= link + \"/infotainment\"\n",
    "hdr = {'User-Agent': 'Mozilla/5.0 (Windows NT 6.1) AppleWebKit/537.36 (KHTML, like Gecko) Chrome/41.0.2228.0 Safari/537.36'}\n",
    "req = Request(site,headers=hdr)\n",
    "page = urlopen(req)\n",
    "soup = BeautifulSoup(page)\n",
    "Feature=[]"
   ]
  },
  {
   "cell_type": "code",
   "execution_count": 80,
   "id": "3e49b4ac",
   "metadata": {},
   "outputs": [],
   "source": [
    "try:\n",
    "    ptt=soup.find(\"div\",class_=\"pagination\").ul\n",
    "    pages=ptt.find_all(\"li\")\n",
    "    for q in range(1,len(pages)-1):\n",
    "        if q==1:\n",
    "            site= site\n",
    "            hdr = {'User-Agent': 'Mozilla/5.0 (Windows NT 6.1) AppleWebKit/537.36 (KHTML, like Gecko) Chrome/41.0.2228.0 Safari/537.36'}\n",
    "            req = Request(site,headers=hdr)\n",
    "            page = urlopen(req)\n",
    "            soup = BeautifulSoup(page)\n",
    "            cars=soup.find('div',class_=\"gsc-ta-active gsc-ta-content\").ul\n",
    "            for i in cars:\n",
    "                j=i.find(\"div\",class_=\"contentspace\").find(\"p\",class_=\"contentheight\")\n",
    "                p=j.find(\"span\").text\n",
    "                Feature.append(p)\n",
    "        else:\n",
    "            site=site\n",
    "            site=site+'/'+str(q)\n",
    "            hdr = {'User-Agent': 'Mozilla/5.0 (Windows NT 6.1) AppleWebKit/537.36 (KHTML, like Gecko) Chrome/41.0.2228.0 Safari/537.36'}\n",
    "            req = Request(site,headers=hdr)\n",
    "            page = urlopen(req)\n",
    "            soup = BeautifulSoup(page)\n",
    "            cars=soup.find('div',class_=\"gsc-ta-active gsc-ta-content\").ul\n",
    "            for i in cars:\n",
    "                j=i.find(\"div\",class_=\"contentspace\").find(\"p\",class_=\"contentheight\")\n",
    "                p=j.find(\"span\").text\n",
    "                Feature.append(p)\n",
    "except:\n",
    "    try:\n",
    "        site= site\n",
    "        hdr = {'User-Agent': 'Mozilla/5.0 (Windows NT 6.1) AppleWebKit/537.36 (KHTML, like Gecko) Chrome/41.0.2228.0 Safari/537.36'}\n",
    "        req = Request(site,headers=hdr)\n",
    "        page = urlopen(req)\n",
    "        soup = BeautifulSoup(page)\n",
    "        cars=soup.find('div',class_=\"gsc-ta-active gsc-ta-content\").ul\n",
    "        for i in cars:\n",
    "            j=i.find(\"div\",class_=\"contentspace\").find(\"p\",class_=\"contentheight\")\n",
    "            p=j.find(\"span\").text\n",
    "            Feature.append(p)\n",
    "    except:\n",
    "        print()"
   ]
  },
  {
   "cell_type": "code",
   "execution_count": 81,
   "id": "0bf56170",
   "metadata": {},
   "outputs": [
    {
     "data": {
      "text/plain": [
       "2"
      ]
     },
     "execution_count": 81,
     "metadata": {},
     "output_type": "execute_result"
    }
   ],
   "source": [
    "len(Feature)"
   ]
  },
  {
   "cell_type": "code",
   "execution_count": 82,
   "id": "cc882037",
   "metadata": {},
   "outputs": [],
   "source": [
    "site= link + \"/sensors\"\n",
    "hdr = {'User-Agent': 'Mozilla/5.0 (Windows NT 6.1) AppleWebKit/537.36 (KHTML, like Gecko) Chrome/41.0.2228.0 Safari/537.36'}\n",
    "req = Request(site,headers=hdr)\n",
    "page = urlopen(req)\n",
    "soup = BeautifulSoup(page)"
   ]
  },
  {
   "cell_type": "code",
   "execution_count": 83,
   "id": "de8ac2f5",
   "metadata": {},
   "outputs": [],
   "source": [
    "try:\n",
    "    ptt=soup.find(\"div\",class_=\"pagination\").ul\n",
    "    pages=ptt.find_all(\"li\")\n",
    "    for q in range(1,len(pages)-1):\n",
    "        if q==1:\n",
    "            site= site\n",
    "            hdr = {'User-Agent': 'Mozilla/5.0 (Windows NT 6.1) AppleWebKit/537.36 (KHTML, like Gecko) Chrome/41.0.2228.0 Safari/537.36'}\n",
    "            req = Request(site,headers=hdr)\n",
    "            page = urlopen(req)\n",
    "            soup = BeautifulSoup(page)\n",
    "            cars=soup.find('div',class_=\"gsc-ta-active gsc-ta-content\").ul\n",
    "            for i in cars:\n",
    "                j=i.find(\"div\",class_=\"contentspace\").find(\"p\",class_=\"contentheight\")\n",
    "                p=j.find(\"span\").text\n",
    "                Feature.append(p)\n",
    "        else:\n",
    "            site=site\n",
    "            site=site+'/'+str(q)\n",
    "            hdr = {'User-Agent': 'Mozilla/5.0 (Windows NT 6.1) AppleWebKit/537.36 (KHTML, like Gecko) Chrome/41.0.2228.0 Safari/537.36'}\n",
    "            req = Request(site,headers=hdr)\n",
    "            page = urlopen(req)\n",
    "            soup = BeautifulSoup(page)\n",
    "            cars=soup.find('div',class_=\"gsc-ta-active gsc-ta-content\").ul\n",
    "            for i in cars:\n",
    "                j=i.find(\"div\",class_=\"contentspace\").find(\"p\",class_=\"contentheight\")\n",
    "                p=j.find(\"span\").text\n",
    "                Feature.append(p)\n",
    "except:\n",
    "    try:\n",
    "        site= site\n",
    "        hdr = {'User-Agent': 'Mozilla/5.0 (Windows NT 6.1) AppleWebKit/537.36 (KHTML, like Gecko) Chrome/41.0.2228.0 Safari/537.36'}\n",
    "        req = Request(site,headers=hdr)\n",
    "        page = urlopen(req)\n",
    "        soup = BeautifulSoup(page)\n",
    "        cars=soup.find('div',class_=\"gsc-ta-active gsc-ta-content\").ul\n",
    "        for i in cars:\n",
    "            j=i.find(\"div\",class_=\"contentspace\").find(\"p\",class_=\"contentheight\")\n",
    "            p=j.find(\"span\").text\n",
    "            Feature.append(p)\n",
    "    except:\n",
    "        print()"
   ]
  },
  {
   "cell_type": "code",
   "execution_count": 84,
   "id": "678f9f4d",
   "metadata": {},
   "outputs": [
    {
     "data": {
      "text/plain": [
       "3"
      ]
     },
     "execution_count": 84,
     "metadata": {},
     "output_type": "execute_result"
    }
   ],
   "source": [
    "len(Feature)"
   ]
  },
  {
   "cell_type": "code",
   "execution_count": 85,
   "id": "fde9e7c0",
   "metadata": {},
   "outputs": [],
   "source": [
    "site= link + \"/touch-screen\"\n",
    "hdr = {'User-Agent': 'Mozilla/5.0 (Windows NT 6.1) AppleWebKit/537.36 (KHTML, like Gecko) Chrome/41.0.2228.0 Safari/537.36'}\n",
    "req = Request(site,headers=hdr)\n",
    "page = urlopen(req)\n",
    "soup = BeautifulSoup(page)"
   ]
  },
  {
   "cell_type": "code",
   "execution_count": 86,
   "id": "2cf04229",
   "metadata": {},
   "outputs": [],
   "source": [
    "try:\n",
    "    ptt=soup.find(\"div\",class_=\"pagination\").ul\n",
    "    pages=ptt.find_all(\"li\")\n",
    "    for q in range(1,len(pages)-1):\n",
    "        if q==1:\n",
    "            site= site\n",
    "            hdr = {'User-Agent': 'Mozilla/5.0 (Windows NT 6.1) AppleWebKit/537.36 (KHTML, like Gecko) Chrome/41.0.2228.0 Safari/537.36'}\n",
    "            req = Request(site,headers=hdr)\n",
    "            page = urlopen(req)\n",
    "            soup = BeautifulSoup(page)\n",
    "            cars=soup.find('div',class_=\"gsc-ta-active gsc-ta-content\").ul\n",
    "            for i in cars:\n",
    "                j=i.find(\"div\",class_=\"contentspace\").find(\"p\",class_=\"contentheight\")\n",
    "                p=j.find(\"span\").text\n",
    "                Feature.append(p)\n",
    "        else:\n",
    "            site=site\n",
    "            site=site+'/'+str(q)\n",
    "            hdr = {'User-Agent': 'Mozilla/5.0 (Windows NT 6.1) AppleWebKit/537.36 (KHTML, like Gecko) Chrome/41.0.2228.0 Safari/537.36'}\n",
    "            req = Request(site,headers=hdr)\n",
    "            page = urlopen(req)\n",
    "            soup = BeautifulSoup(page)\n",
    "            cars=soup.find('div',class_=\"gsc-ta-active gsc-ta-content\").ul\n",
    "            for i in cars:\n",
    "                j=i.find(\"div\",class_=\"contentspace\").find(\"p\",class_=\"contentheight\")\n",
    "                p=j.find(\"span\").text\n",
    "                Feature.append(p)\n",
    "except:\n",
    "    try:\n",
    "        site= site\n",
    "        hdr = {'User-Agent': 'Mozilla/5.0 (Windows NT 6.1) AppleWebKit/537.36 (KHTML, like Gecko) Chrome/41.0.2228.0 Safari/537.36'}\n",
    "        req = Request(site,headers=hdr)\n",
    "        page = urlopen(req)\n",
    "        soup = BeautifulSoup(page)\n",
    "        cars=soup.find('div',class_=\"gsc-ta-active gsc-ta-content\").ul\n",
    "        for i in cars:\n",
    "            j=i.find(\"div\",class_=\"contentspace\").find(\"p\",class_=\"contentheight\")\n",
    "            p=j.find(\"span\").text\n",
    "            Feature.append(p)\n",
    "    except:\n",
    "        print()"
   ]
  },
  {
   "cell_type": "code",
   "execution_count": 87,
   "id": "6a92b14c",
   "metadata": {},
   "outputs": [
    {
     "data": {
      "text/plain": [
       "4"
      ]
     },
     "execution_count": 87,
     "metadata": {},
     "output_type": "execute_result"
    }
   ],
   "source": [
    "len(Feature)"
   ]
  },
  {
   "cell_type": "code",
   "execution_count": 88,
   "id": "9fd545bf",
   "metadata": {},
   "outputs": [],
   "source": [
    "site= link1 + \"/infotainment\"\n",
    "hdr = {'User-Agent': 'Mozilla/5.0 (Windows NT 6.1) AppleWebKit/537.36 (KHTML, like Gecko) Chrome/41.0.2228.0 Safari/537.36'}\n",
    "req = Request(site,headers=hdr)\n",
    "page = urlopen(req)\n",
    "soup = BeautifulSoup(page)\n",
    "try:\n",
    "    sec=soup.find('div',class_='pt-15').ul\n",
    "    list1=sec.find_all('li')\n",
    "    t=list1[1].text.strip(\"\\n\")[:-3]\n",
    "    if re.search(\"Infotainment\",t):\n",
    "        sec=soup.find('div',class_='f-rvm').find_all(\"div\",class_=\"ncmt-c\")\n",
    "        for reviews in sec:\n",
    "            review=reviews.find(\"p\").text\n",
    "            Feature.append(review)\n",
    "except:\n",
    "    print()"
   ]
  },
  {
   "cell_type": "code",
   "execution_count": 89,
   "id": "c9cd6fcf",
   "metadata": {},
   "outputs": [
    {
     "data": {
      "text/plain": [
       "7"
      ]
     },
     "execution_count": 89,
     "metadata": {},
     "output_type": "execute_result"
    }
   ],
   "source": [
    "len(Feature)"
   ]
  },
  {
   "cell_type": "markdown",
   "id": "a7f3384a",
   "metadata": {},
   "source": [
    "# Handling"
   ]
  },
  {
   "cell_type": "code",
   "execution_count": 90,
   "id": "eb3c00ac",
   "metadata": {},
   "outputs": [],
   "source": [
    "site= link + \"/steering\"\n",
    "hdr = {'User-Agent': 'Mozilla/5.0 (Windows NT 6.1) AppleWebKit/537.36 (KHTML, like Gecko) Chrome/41.0.2228.0 Safari/537.36'}\n",
    "req = Request(site,headers=hdr)\n",
    "page = urlopen(req)\n",
    "soup = BeautifulSoup(page)\n",
    "Handling=[]"
   ]
  },
  {
   "cell_type": "code",
   "execution_count": 91,
   "id": "d37a4482",
   "metadata": {},
   "outputs": [],
   "source": [
    "try:\n",
    "    ptt=soup.find(\"div\",class_=\"pagination\").ul\n",
    "    pages=ptt.find_all(\"li\")\n",
    "    for q in range(1,len(pages)-1):\n",
    "        if q==1:\n",
    "            site= site\n",
    "            hdr = {'User-Agent': 'Mozilla/5.0 (Windows NT 6.1) AppleWebKit/537.36 (KHTML, like Gecko) Chrome/41.0.2228.0 Safari/537.36'}\n",
    "            req = Request(site,headers=hdr)\n",
    "            page = urlopen(req)\n",
    "            soup = BeautifulSoup(page)\n",
    "            cars=soup.find('div',class_=\"gsc-ta-active gsc-ta-content\").ul\n",
    "            for i in cars:\n",
    "                j=i.find(\"div\",class_=\"contentspace\").find(\"p\",class_=\"contentheight\")\n",
    "                p=j.find(\"span\").text\n",
    "                Handling.append(p)\n",
    "        else:\n",
    "            site=site\n",
    "            site=site+'/'+str(q)\n",
    "            hdr = {'User-Agent': 'Mozilla/5.0 (Windows NT 6.1) AppleWebKit/537.36 (KHTML, like Gecko) Chrome/41.0.2228.0 Safari/537.36'}\n",
    "            req = Request(site,headers=hdr)\n",
    "            page = urlopen(req)\n",
    "            soup = BeautifulSoup(page)\n",
    "            cars=soup.find('div',class_=\"gsc-ta-active gsc-ta-content\").ul\n",
    "            for i in cars:\n",
    "                j=i.find(\"div\",class_=\"contentspace\").find(\"p\",class_=\"contentheight\")\n",
    "                p=j.find(\"span\").text\n",
    "                Handling.append(p)\n",
    "except:\n",
    "    try:\n",
    "        site= site\n",
    "        hdr = {'User-Agent': 'Mozilla/5.0 (Windows NT 6.1) AppleWebKit/537.36 (KHTML, like Gecko) Chrome/41.0.2228.0 Safari/537.36'}\n",
    "        req = Request(site,headers=hdr)\n",
    "        page = urlopen(req)\n",
    "        soup = BeautifulSoup(page)\n",
    "        cars=soup.find('div',class_=\"gsc-ta-active gsc-ta-content\").ul\n",
    "        for i in cars:\n",
    "            j=i.find(\"div\",class_=\"contentspace\").find(\"p\",class_=\"contentheight\")\n",
    "            p=j.find(\"span\").text\n",
    "            Handling.append(p)\n",
    "    except:\n",
    "        print()"
   ]
  },
  {
   "cell_type": "code",
   "execution_count": 92,
   "id": "e6662b68",
   "metadata": {},
   "outputs": [
    {
     "data": {
      "text/plain": [
       "2"
      ]
     },
     "execution_count": 92,
     "metadata": {},
     "output_type": "execute_result"
    }
   ],
   "source": [
    "len(Handling)"
   ]
  },
  {
   "cell_type": "code",
   "execution_count": 93,
   "id": "3d549583",
   "metadata": {},
   "outputs": [],
   "source": [
    "site= link + \"/wheel\"\n",
    "hdr = {'User-Agent': 'Mozilla/5.0 (Windows NT 6.1) AppleWebKit/537.36 (KHTML, like Gecko) Chrome/41.0.2228.0 Safari/537.36'}\n",
    "req = Request(site,headers=hdr)\n",
    "page = urlopen(req)\n",
    "soup = BeautifulSoup(page)"
   ]
  },
  {
   "cell_type": "code",
   "execution_count": 94,
   "id": "c361c38d",
   "metadata": {},
   "outputs": [],
   "source": [
    "try:\n",
    "    ptt=soup.find(\"div\",class_=\"pagination\").ul\n",
    "    pages=ptt.find_all(\"li\")\n",
    "    for q in range(1,len(pages)-1):\n",
    "        if q==1:\n",
    "            site= site\n",
    "            hdr = {'User-Agent': 'Mozilla/5.0 (Windows NT 6.1) AppleWebKit/537.36 (KHTML, like Gecko) Chrome/41.0.2228.0 Safari/537.36'}\n",
    "            req = Request(site,headers=hdr)\n",
    "            page = urlopen(req)\n",
    "            soup = BeautifulSoup(page)\n",
    "            cars=soup.find('div',class_=\"gsc-ta-active gsc-ta-content\").ul\n",
    "            for i in cars:\n",
    "                j=i.find(\"div\",class_=\"contentspace\").find(\"p\",class_=\"contentheight\")\n",
    "                p=j.find(\"span\").text\n",
    "                Handling.append(p)\n",
    "        else:\n",
    "            site=site\n",
    "            site=site+'/'+str(q)\n",
    "            hdr = {'User-Agent': 'Mozilla/5.0 (Windows NT 6.1) AppleWebKit/537.36 (KHTML, like Gecko) Chrome/41.0.2228.0 Safari/537.36'}\n",
    "            req = Request(site,headers=hdr)\n",
    "            page = urlopen(req)\n",
    "            soup = BeautifulSoup(page)\n",
    "            cars=soup.find('div',class_=\"gsc-ta-active gsc-ta-content\").ul\n",
    "            for i in cars:\n",
    "                j=i.find(\"div\",class_=\"contentspace\").find(\"p\",class_=\"contentheight\")\n",
    "                p=j.find(\"span\").text\n",
    "                Handling.append(p)\n",
    "except:\n",
    "    try:\n",
    "        site= site\n",
    "        hdr = {'User-Agent': 'Mozilla/5.0 (Windows NT 6.1) AppleWebKit/537.36 (KHTML, like Gecko) Chrome/41.0.2228.0 Safari/537.36'}\n",
    "        req = Request(site,headers=hdr)\n",
    "        page = urlopen(req)\n",
    "        soup = BeautifulSoup(page)\n",
    "        cars=soup.find('div',class_=\"gsc-ta-active gsc-ta-content\").ul\n",
    "        for i in cars:\n",
    "            j=i.find(\"div\",class_=\"contentspace\").find(\"p\",class_=\"contentheight\")\n",
    "            p=j.find(\"span\").text\n",
    "            Handling.append(p)\n",
    "    except:\n",
    "        print()"
   ]
  },
  {
   "cell_type": "code",
   "execution_count": 95,
   "id": "649febaf",
   "metadata": {},
   "outputs": [
    {
     "data": {
      "text/plain": [
       "3"
      ]
     },
     "execution_count": 95,
     "metadata": {},
     "output_type": "execute_result"
    }
   ],
   "source": [
    "len(Handling)"
   ]
  },
  {
   "cell_type": "code",
   "execution_count": 96,
   "id": "20e4b547",
   "metadata": {},
   "outputs": [],
   "source": [
    "site= link + \"/suspension\"\n",
    "hdr = {'User-Agent': 'Mozilla/5.0 (Windows NT 6.1) AppleWebKit/537.36 (KHTML, like Gecko) Chrome/41.0.2228.0 Safari/537.36'}\n",
    "req = Request(site,headers=hdr)\n",
    "page = urlopen(req)\n",
    "soup = BeautifulSoup(page)"
   ]
  },
  {
   "cell_type": "code",
   "execution_count": 97,
   "id": "b37feec3",
   "metadata": {},
   "outputs": [
    {
     "name": "stdout",
     "output_type": "stream",
     "text": [
      "\n"
     ]
    }
   ],
   "source": [
    "try:\n",
    "    ptt=soup.find(\"div\",class_=\"pagination\").ul\n",
    "    pages=ptt.find_all(\"li\")\n",
    "    for q in range(1,len(pages)-1):\n",
    "        if q==1:\n",
    "            site= site\n",
    "            hdr = {'User-Agent': 'Mozilla/5.0 (Windows NT 6.1) AppleWebKit/537.36 (KHTML, like Gecko) Chrome/41.0.2228.0 Safari/537.36'}\n",
    "            req = Request(site,headers=hdr)\n",
    "            page = urlopen(req)\n",
    "            soup = BeautifulSoup(page)\n",
    "            cars=soup.find('div',class_=\"gsc-ta-active gsc-ta-content\").ul\n",
    "            for i in cars:\n",
    "                j=i.find(\"div\",class_=\"contentspace\").find(\"p\",class_=\"contentheight\")\n",
    "                p=j.find(\"span\").text\n",
    "                Handling.append(p)\n",
    "        else:\n",
    "            site=site\n",
    "            site=site+'/'+str(q)\n",
    "            hdr = {'User-Agent': 'Mozilla/5.0 (Windows NT 6.1) AppleWebKit/537.36 (KHTML, like Gecko) Chrome/41.0.2228.0 Safari/537.36'}\n",
    "            req = Request(site,headers=hdr)\n",
    "            page = urlopen(req)\n",
    "            soup = BeautifulSoup(page)\n",
    "            cars=soup.find('div',class_=\"gsc-ta-active gsc-ta-content\").ul\n",
    "            for i in cars:\n",
    "                j=i.find(\"div\",class_=\"contentspace\").find(\"p\",class_=\"contentheight\")\n",
    "                p=j.find(\"span\").text\n",
    "                Handling.append(p)\n",
    "except:\n",
    "    try:\n",
    "        site= site\n",
    "        hdr = {'User-Agent': 'Mozilla/5.0 (Windows NT 6.1) AppleWebKit/537.36 (KHTML, like Gecko) Chrome/41.0.2228.0 Safari/537.36'}\n",
    "        req = Request(site,headers=hdr)\n",
    "        page = urlopen(req)\n",
    "        soup = BeautifulSoup(page)\n",
    "        cars=soup.find('div',class_=\"gsc-ta-active gsc-ta-content\").ul\n",
    "        Off_road=[]\n",
    "        Max=[]\n",
    "        for i in cars:\n",
    "            j=i.find(\"div\",class_=\"contentspace\").find(\"p\",class_=\"contentheight\")\n",
    "            p=j.find(\"span\").text\n",
    "            Handling.append(p)\n",
    "    except:\n",
    "        print()"
   ]
  },
  {
   "cell_type": "code",
   "execution_count": 98,
   "id": "ab2643b2",
   "metadata": {},
   "outputs": [
    {
     "data": {
      "text/plain": [
       "3"
      ]
     },
     "execution_count": 98,
     "metadata": {},
     "output_type": "execute_result"
    }
   ],
   "source": [
    "len(Handling)"
   ]
  },
  {
   "cell_type": "code",
   "execution_count": 99,
   "id": "7752e521",
   "metadata": {},
   "outputs": [],
   "source": [
    "site= link1 + \"/suspension\"\n",
    "hdr = {'User-Agent': 'Mozilla/5.0 (Windows NT 6.1) AppleWebKit/537.36 (KHTML, like Gecko) Chrome/41.0.2228.0 Safari/537.36'}\n",
    "req = Request(site,headers=hdr)\n",
    "page = urlopen(req)\n",
    "soup = BeautifulSoup(page)\n",
    "try:\n",
    "    sec=soup.find('div',class_='pt-15').ul\n",
    "    list1=sec.find_all('li')\n",
    "    t=list1[1].text.strip(\"\\n\")[:-3]\n",
    "    if re.search(\"Suspension\",t):\n",
    "        sec=soup.find('div',class_='f-rvm').find_all(\"div\",class_=\"ncmt-c\")\n",
    "        for reviews in sec:\n",
    "            review=reviews.find(\"p\").text\n",
    "            Handling.append(review)\n",
    "except:\n",
    "    print()"
   ]
  },
  {
   "cell_type": "code",
   "execution_count": 100,
   "id": "7a402a84",
   "metadata": {},
   "outputs": [
    {
     "data": {
      "text/plain": [
       "5"
      ]
     },
     "execution_count": 100,
     "metadata": {},
     "output_type": "execute_result"
    }
   ],
   "source": [
    "len(Handling)"
   ]
  },
  {
   "cell_type": "code",
   "execution_count": 101,
   "id": "5fe59e74",
   "metadata": {},
   "outputs": [],
   "source": [
    "site= link1 + \"/wheel\"\n",
    "hdr = {'User-Agent': 'Mozilla/5.0 (Windows NT 6.1) AppleWebKit/537.36 (KHTML, like Gecko) Chrome/41.0.2228.0 Safari/537.36'}\n",
    "req = Request(site,headers=hdr)\n",
    "page = urlopen(req)\n",
    "soup = BeautifulSoup(page)\n",
    "try:\n",
    "    sec=soup.find('div',class_='pt-15').ul\n",
    "    list1=sec.find_all('li')\n",
    "    t=list1[1].text.strip(\"\\n\")[:-3]\n",
    "    if re.search(\"Wheel\",t):\n",
    "        sec=soup.find('div',class_='f-rvm').find_all(\"div\",class_=\"ncmt-c\")\n",
    "        for reviews in sec:\n",
    "            review=reviews.find(\"p\").text\n",
    "            Handling.append(review)\n",
    "except:\n",
    "    print()"
   ]
  },
  {
   "cell_type": "code",
   "execution_count": 102,
   "id": "8be238a1",
   "metadata": {},
   "outputs": [
    {
     "data": {
      "text/plain": [
       "6"
      ]
     },
     "execution_count": 102,
     "metadata": {},
     "output_type": "execute_result"
    }
   ],
   "source": [
    "len(Handling)"
   ]
  },
  {
   "cell_type": "code",
   "execution_count": 103,
   "id": "761c7b64",
   "metadata": {},
   "outputs": [],
   "source": [
    "site= link1 + \"/tyres\"\n",
    "hdr = {'User-Agent': 'Mozilla/5.0 (Windows NT 6.1) AppleWebKit/537.36 (KHTML, like Gecko) Chrome/41.0.2228.0 Safari/537.36'}\n",
    "req = Request(site,headers=hdr)\n",
    "page = urlopen(req)\n",
    "soup = BeautifulSoup(page)\n",
    "try:\n",
    "    sec=soup.find('div',class_='pt-15').ul\n",
    "    list1=sec.find_all('li')\n",
    "    t=list1[1].text.strip(\"\\n\")[:-3]\n",
    "    if re.search(\"Tyres\",t):\n",
    "        sec=soup.find('div',class_='f-rvm').find_all(\"div\",class_=\"ncmt-c\")\n",
    "        for reviews in sec:\n",
    "            review=reviews.find(\"p\").text\n",
    "            Handling.append(review)\n",
    "except:\n",
    "    print()"
   ]
  },
  {
   "cell_type": "code",
   "execution_count": 104,
   "id": "7a2946f5",
   "metadata": {},
   "outputs": [],
   "source": [
    "site= link2+\".html\"\n",
    "hdr = {'User-Agent': 'Mozilla/5.0 (Windows NT 6.1) AppleWebKit/537.36 (KHTML, like Gecko) Chrome/41.0.2228.0 Safari/537.36'}\n",
    "req = Request(site,headers=hdr)\n",
    "page = urlopen(req)\n",
    "soup = BeautifulSoup(page)\n",
    "ptt=soup.find('td',class_=\"vbmenu_control mod2022-radius-tl mod2022-radius-bl mod2022-pagenav-in-words\")\n",
    "list5=(ptt.text).split(\" \")\n",
    "p=int(list5[-1])"
   ]
  },
  {
   "cell_type": "code",
   "execution_count": 105,
   "id": "050fc7c9",
   "metadata": {},
   "outputs": [],
   "source": [
    "Range1=[]\n",
    "Safety1=[]\n",
    "Performance1=[]\n",
    "comfort1=[]\n",
    "Off_road1=[]\n",
    "Streering1=[]\n",
    "Ride1=[]\n",
    "Noice1=[]\n",
    "Vis1=[]\n",
    "Braking1=[]\n",
    "Feature1=[]\n",
    "Handling1=[]\n",
    "for q in range(1,p+1):\n",
    "    if q==1:\n",
    "        site= link2 +\".html\"\n",
    "        hdr = {'User-Agent': 'Mozilla/5.0 (Windows NT 6.1) AppleWebKit/537.36 (KHTML, like Gecko) Chrome/41.0.2228.0 Safari/537.36'}\n",
    "        req = Request(site,headers=hdr)\n",
    "        page = urlopen(req)\n",
    "        soup = BeautifulSoup(page)\n",
    "        ptt=soup.find_all('div',style=\"margin: 0 auto\")\n",
    "        for i in ptt:\n",
    "            list1=[]\n",
    "            alt=i.find_all('td',class_=\"alt1\")\n",
    "            for l in alt:\n",
    "                se=l.find_all('div')\n",
    "                #print(se)\n",
    "                if len(se)>1 and re.search(\"post_message\",str(se)):\n",
    "                    for i in se:\n",
    "                        string=\"\"\n",
    "                        for j in i:\n",
    "                            if (re.search(\"Originally Posted by\",str(j))) or (re.search(\"<strong>\",str(j))) or (re.search(\"Last edited\",str(j))):\n",
    "                                continue\n",
    "                            else:\n",
    "                                string=string + str(j.text)\n",
    "                        list1.append(string)\n",
    "            for i in list1:\n",
    "                k=i.split(\".\")\n",
    "                for j in k:\n",
    "                    if (re.search(\"Milage\",str(j))) or (re.search(\"milage\",str(j))) or (re.search(\"Range\",str(j))) or (re.search(\"km\",j)) or (re.search(\"KM\",j)) or (re.search(\"Km\",j)) or (re.search(\"range\",str(j))):\n",
    "                        j=j.strip(\" \\r\\n\\t\")\n",
    "                        Range1.append(j)\n",
    "                        Range1=list(set(Range1))\n",
    "                    if (re.search(\"Safe\",str(j))) or (re.search(\"safe\",str(j))) or (re.search(\"Airbag\",str(j))) or (re.search(\"airbag\",j)) or (re.search(\"seat belt\",j)) or (re.search(\"Seat belt\",j)):\n",
    "                        j=j.strip(\" \\r\\n\\t\")\n",
    "                        Safety1.append(j)\n",
    "                        Safety1=list(set(Safety1))\n",
    "                    if (re.search(\"Performance\",str(j))) or (re.search(\"performance\",str(j))) or (re.search(\"Engine\",str(j))) or (re.search(\"engine\",j)):\n",
    "                        j=j.strip(\" \\r\\n\\t\")\n",
    "                        Performance1.append(j)\n",
    "                        Performance1=list(set(Performance1))\n",
    "                    if (re.search(\"Seat\",str(j))) or (re.search(\"seat\",str(j))) or (re.search(\"Space\",str(j))) or (re.search(\"space\",j)) or (re.search(\"AC\",str(j))) or (re.search(\"ac\",str(j))) or (re.search(\"air conditioner\",str(j))) or (re.search(\"comfort\",str(j))) or (re.search(\"Comfort\",str(j))):\n",
    "                        j=j.strip(\" \\r\\n\\t\")\n",
    "                        comfort1.append(j)\n",
    "                        comfort1=list(set(comfort1))\n",
    "                    if (re.search(\"Suspension\",str(j))) or (re.search(\"suspension\",str(j))) or (re.search(\"clearance\",str(j))) or (re.search(\"Clearance\",str(j))) or (re.search(\"power\",str(j))) or (re.search(\"Power\",str(j))) or (re.search(\"Torque\",j)) or (re.search(\"torque\",str(j))) or (re.search(\"Off road\",str(j))) or (re.search(\"off road\",str(j))):\n",
    "                        j=j.strip(\" \\r\\n\\t\")\n",
    "                        Off_road1.append(j)\n",
    "                        Off_road1=list(set(Off_road1))\n",
    "                    if (re.search(\"Streering\",str(j))) or (re.search(\"streering\",str(j))):\n",
    "                        j=j.strip(\" \\r\\n\\t\")\n",
    "                        Streering1.append(j)\n",
    "                        Streering1=list(set(Streering1))\n",
    "                    if (re.search(\"Drive\",str(j))) or (re.search(\"drive\",str(j))) or (re.search(\"experience\",str(j))) or (re.search(\"Experience\",str(j))):\n",
    "                        j=j.strip(\" \\r\\n\\t\")\n",
    "                        Ride1=Streering1.copy()\n",
    "                        Ride1.append(j)\n",
    "                        Ride1=list(set(Ride1))\n",
    "                    if (re.search(\"noise\",str(j))) or (re.search(\"Noise\",str(j))):\n",
    "                        j=j.strip(\" \\r\\n\\t\")\n",
    "                        Noice1.append(j)\n",
    "                        Noice1=list(set(Noice1))\n",
    "                    if (re.search(\"headlamp\",str(j))) or (re.search(\"Headlamp\",str(j))) or (re.search(\"light\",str(j))) or (re.search(\"Light\",str(j))) or (re.search(\"Head light\",str(j))) or (re.search(\"head light\",str(j))) or (re.search(\"Visibility\",str(j))) or (re.search(\"Visibility\",str(j))):\n",
    "                        j=j.strip(\" \\r\\n\\t\")\n",
    "                        Vis1.append(j)\n",
    "                        Vis1=list(set(Vis1))\n",
    "                    if (re.search(\"Braking\",str(j))) or (re.search(\"braking\",str(j))) or(re.search(\"Brake\",str(j))) or (re.search(\"brake\",str(j))):\n",
    "                        j=j.strip(\" \\r\\n\\t\")\n",
    "                        Braking1.append(j)\n",
    "                        Braking1=list(set(Braking1))\n",
    "                    if (re.search(\"infotainment\",str(j))) or (re.search(\"Infotainment\",str(j))) or (re.search(\"sensors\",str(j))) or (re.search(\"Sensors\",str(j))) or (re.search(\"touch\",str(j))) or (re.search(\"Touch\",str(j))) or (re.search(\"Software\",str(j))) or (re.search(\"software\",str(j))):\n",
    "                        j=j.strip(\" \\r\\n\\t\")\n",
    "                        Feature1.append(j)\n",
    "                        Feature1=list(set(Feature1))\n",
    "                    if (re.search(\"Suspension\",str(j))) or (re.search(\"suspension\",str(j))) or (re.search(\"Wheel\",str(j))) or (re.search(\"wheel\",str(j))) or (re.search(\"Tyres\",str(j))) or (re.search(\"tyres\",str(j))):\n",
    "                        j=j.strip(\" \\r\\n\\t\")\n",
    "                        Handling1=Streering1.copy()\n",
    "                        Handling1.append(j)\n",
    "                        Handling1=list(set(Handling1))\n",
    "                    \n",
    "    else:\n",
    "        site=link2+\"-\"\n",
    "        site=site+str(q)+\".html\"\n",
    "        hdr = {'User-Agent': 'Mozilla/5.0'}\n",
    "        req = Request(site,headers=hdr)\n",
    "        page = urlopen(req)\n",
    "        soup = BeautifulSoup(page)\n",
    "        ptt=soup.find_all('div',style=\"margin: 0 auto\")\n",
    "        for i in ptt:\n",
    "            list1=[]\n",
    "            alt=i.find_all('td',class_=\"alt1\")\n",
    "            for k in alt:\n",
    "                se=k.find_all('div')\n",
    "                #print(se)\n",
    "                if len(se)>1 and re.search(\"post_message\",str(se)):\n",
    "                    for r in se:\n",
    "                        string=\"\"\n",
    "                        for j in r:\n",
    "                            if (re.search(\"Originally Posted by\",str(j))) or (re.search(\"<strong>\",str(j))) or (re.search(\"Last edited\",str(j))) or (re.search(\"Quote:\",str(j))) or (re.search(\"https:\",str(j))):\n",
    "                                continue\n",
    "                            else:\n",
    "                                string=string + str(j.text)\n",
    "                        list1.append(string)\n",
    "            for i in list1:\n",
    "                k=i.split(\".\")\n",
    "                for j in k:\n",
    "                    if (re.search(\"Milage\",str(j))) or (re.search(\"milage\",str(j))) or (re.search(\"Range\",str(j))) or (re.search(\"km\",j)) or (re.search(\"KM\",j)) or (re.search(\"Km\",j)) or (re.search(\"range\",str(j))):\n",
    "                        j=j.strip(\" \\r\\n\\t\")\n",
    "                        Range1.append(j)\n",
    "                        Range1=list(set(Range1))\n",
    "                    if (re.search(\"Safe\",str(j))) or (re.search(\"safe\",str(j))) or (re.search(\"Airbag\",str(j))) or (re.search(\"airbag\",j)) or (re.search(\"seat belt\",j)) or (re.search(\"Seat belt\",j)):\n",
    "                        j=j.strip(\" \\r\\n\\t\")\n",
    "                        Safety1.append(j)\n",
    "                        Safety1=list(set(Safety1))\n",
    "                    if (re.search(\"Performance\",str(j))) or (re.search(\"performance\",str(j))) or (re.search(\"Engine\",str(j))) or (re.search(\"engine\",j)):\n",
    "                        j=j.strip(\" \\r\\n\\t\")\n",
    "                        Performance1.append(j)\n",
    "                        Performance1=list(set(Performance1))\n",
    "                    if (re.search(\"Seat\",str(j))) or (re.search(\"seat\",str(j))) or (re.search(\"Space\",str(j))) or (re.search(\"space\",j)) or (re.search(\"AC\",str(j))) or (re.search(\"ac\",str(j))) or (re.search(\"air conditioner\",str(j))) or (re.search(\"comfort\",str(j))) or (re.search(\"Comfort\",str(j))):\n",
    "                        j=j.strip(\" \\r\\n\\t\")\n",
    "                        comfort1.append(j)\n",
    "                        comfort1=list(set(comfort1))\n",
    "                    if (re.search(\"Suspension\",str(j))) or (re.search(\"suspension\",str(j))) or (re.search(\"clearance\",str(j))) or (re.search(\"Clearance\",str(j))) or (re.search(\"power\",str(j))) or (re.search(\"Power\",str(j))) or (re.search(\"Torque\",j)) or (re.search(\"torque\",str(j))) or (re.search(\"Off road\",str(j))) or (re.search(\"off road\",str(j))):\n",
    "                        j=j.strip(\" \\r\\n\\t\")\n",
    "                        Off_road1.append(j)\n",
    "                        Off_road1=list(set(Off_road1))\n",
    "                    if (re.search(\"Streering\",str(j))) or (re.search(\"streering\",str(j))):\n",
    "                        j=j.strip(\" \\r\\n\\t\")\n",
    "                        Streering1.append(j)\n",
    "                        Streering1=list(set(Streering1))\n",
    "                    if (re.search(\"Drive\",str(j))) or (re.search(\"drive\",str(j))) or (re.search(\"experience\",str(j))) or (re.search(\"Experience\",str(j))):\n",
    "                        j=j.strip(\" \\r\\n\\t\")\n",
    "                        Ride1=Streering1.copy()\n",
    "                        Ride1.append(j)\n",
    "                        Ride1=list(set(Ride1))\n",
    "                    if (re.search(\"noise\",str(j))) or (re.search(\"Noise\",str(j))):\n",
    "                        j=j.strip(\" \\r\\n\\t\")\n",
    "                        Noice1.append(j)\n",
    "                        Noice1=list(set(Noice1))\n",
    "                    if (re.search(\"headlamp\",str(j))) or (re.search(\"Headlamp\",str(j))) or (re.search(\"light\",str(j))) or (re.search(\"Light\",str(j))) or (re.search(\"Head light\",str(j))) or (re.search(\"head light\",str(j))) or (re.search(\"Visibility\",str(j))) or (re.search(\"Visibility\",str(j))):\n",
    "                        j=j.strip(\" \\r\\n\\t\")\n",
    "                        Vis1.append(j)\n",
    "                        Vis1=list(set(Vis1))\n",
    "                    if (re.search(\"Braking\",str(j))) or (re.search(\"braking\",str(j))) or(re.search(\"Brake\",str(j))) or (re.search(\"brake\",str(j))):\n",
    "                        j=j.strip(\" \\r\\n\\t\")\n",
    "                        Braking1=list(set(Braking1))\n",
    "                    if (re.search(\"infotainment\",str(j))) or (re.search(\"Infotainment\",str(j))) or (re.search(\"sensors\",str(j))) or (re.search(\"Sensors\",str(j))) or (re.search(\"touch\",str(j))) or (re.search(\"Touch\",str(j))) or (re.search(\"Software\",str(j))) or (re.search(\"software\",str(j))):\n",
    "                        j=j.strip(\" \\r\\n\\t\")\n",
    "                        Feature1.append(j)\n",
    "                        Feature1=list(set(Feature1))\n",
    "                    if (re.search(\"Suspension\",str(j))) or (re.search(\"suspension\",str(j))) or (re.search(\"Wheel\",str(j))) or (re.search(\"wheel\",str(j))) or (re.search(\"Tyres\",str(j))) or (re.search(\"tyres\",str(j))):\n",
    "                        j=j.strip(\" \\r\\n\\t\")\n",
    "                        Handling1=Streering1.copy()\n",
    "                        Handling1.append(j)\n",
    "                        Handling1=list(set(Handling1))"
   ]
  },
  {
   "cell_type": "code",
   "execution_count": 106,
   "id": "8d8a5e44",
   "metadata": {},
   "outputs": [
    {
     "data": {
      "text/plain": [
       "895"
      ]
     },
     "execution_count": 106,
     "metadata": {},
     "output_type": "execute_result"
    }
   ],
   "source": [
    "len(Range1)"
   ]
  },
  {
   "cell_type": "code",
   "execution_count": 107,
   "id": "3544d900",
   "metadata": {},
   "outputs": [],
   "source": [
    "Range=Range+Range1\n",
    "Safety=Safety+Safety1\n",
    "Feature=Feature+Feature1\n",
    "Braking=Braking+Braking1\n",
    "Vis=Vis+Vis1\n",
    "Noice=Noice+Noice1\n",
    "Ride=Ride+Ride1\n",
    "Streering=Streering+Streering1\n",
    "Off_road=Off_road+Off_road1\n",
    "comfort=comfort+comfort1\n",
    "Performance=Performance+Performance1\n",
    "Handling=Handling+Handling1"
   ]
  },
  {
   "cell_type": "code",
   "execution_count": 108,
   "id": "7f33b989",
   "metadata": {},
   "outputs": [],
   "source": [
    "from transformers import AutoTokenizer\n",
    "from transformers import AutoModelForSequenceClassification\n",
    "from scipy.special import softmax"
   ]
  },
  {
   "cell_type": "code",
   "execution_count": 109,
   "id": "6e81e874",
   "metadata": {},
   "outputs": [],
   "source": [
    "# Transformer with Roberta model is used to find the sentiment of the review\n",
    "MODEL= f\"cardiffnlp/twitter-roberta-base-sentiment\"\n",
    "tokenizer = AutoTokenizer.from_pretrained(MODEL)\n",
    "model = AutoModelForSequenceClassification.from_pretrained(MODEL)"
   ]
  },
  {
   "cell_type": "code",
   "execution_count": 110,
   "id": "544b0579",
   "metadata": {},
   "outputs": [],
   "source": [
    "def scores(li):\n",
    "    list1=[]\n",
    "    for i in li:\n",
    "        encorded=tokenizer(i,return_tensors='pt')\n",
    "        output=model(**encorded)\n",
    "        score=output[0][0].detach().numpy()\n",
    "        score= softmax(score)\n",
    "        list1.append(((score[2]*5)+(score[1]*3)+(score[0]*1))/5)\n",
    "    value=sum(list1)/len(list1)\n",
    "    values=(round(value,2))\n",
    "    return(values)"
   ]
  },
  {
   "cell_type": "code",
   "execution_count": 111,
   "id": "ba2f10d4",
   "metadata": {},
   "outputs": [],
   "source": [
    "if len(Range)==0:\n",
    "    Safety='NaN'\n",
    "else:\n",
    "    Range=scores(Range)"
   ]
  },
  {
   "cell_type": "code",
   "execution_count": 112,
   "id": "4ab0f333",
   "metadata": {},
   "outputs": [],
   "source": [
    "if len(Safety)==0:\n",
    "    Safety='NaN'\n",
    "else:\n",
    "    Safety=scores(Safety)"
   ]
  },
  {
   "cell_type": "code",
   "execution_count": 113,
   "id": "b4251bcf",
   "metadata": {},
   "outputs": [],
   "source": [
    "if len(Feature)==0:\n",
    "    Feature='NaN'\n",
    "else:    \n",
    "    Feature=scores(Feature)"
   ]
  },
  {
   "cell_type": "code",
   "execution_count": 114,
   "id": "ef03ff0b",
   "metadata": {},
   "outputs": [],
   "source": [
    "if len(Braking)==0:\n",
    "    Braking='NaN'\n",
    "else:\n",
    "    Braking=scores(Braking)"
   ]
  },
  {
   "cell_type": "code",
   "execution_count": 115,
   "id": "5f963047",
   "metadata": {},
   "outputs": [],
   "source": [
    "if len(Vis)==0:\n",
    "    Vis='NaN'\n",
    "else:\n",
    "    Vis=scores(Vis)"
   ]
  },
  {
   "cell_type": "code",
   "execution_count": 116,
   "id": "e286282e",
   "metadata": {},
   "outputs": [],
   "source": [
    "if len(Noice)==0:\n",
    "    Noice='NaN'\n",
    "else:\n",
    "    Noice=scores(Noice)"
   ]
  },
  {
   "cell_type": "code",
   "execution_count": 117,
   "id": "8ffd5fd9",
   "metadata": {},
   "outputs": [],
   "source": [
    "if len(Ride)==0:\n",
    "    Ride='NaN'\n",
    "else:\n",
    "    Ride=scores(Ride)"
   ]
  },
  {
   "cell_type": "code",
   "execution_count": 118,
   "id": "8c2daefa",
   "metadata": {},
   "outputs": [],
   "source": [
    "if len(Streering)==0:\n",
    "    Streering='NaN'\n",
    "else:\n",
    "    Streering=scores(Streering)"
   ]
  },
  {
   "cell_type": "code",
   "execution_count": 119,
   "id": "76bfd1d3",
   "metadata": {},
   "outputs": [],
   "source": [
    "if len(Off_road)==0:\n",
    "    Off_road='NaN'\n",
    "else:\n",
    "    Off_road=scores(Off_road)"
   ]
  },
  {
   "cell_type": "code",
   "execution_count": 120,
   "id": "12cebd5f",
   "metadata": {},
   "outputs": [],
   "source": [
    "if len(comfort)==0:\n",
    "    comfort='NaN'\n",
    "else:\n",
    "    comfort=scores(comfort)"
   ]
  },
  {
   "cell_type": "code",
   "execution_count": 121,
   "id": "bed97837",
   "metadata": {},
   "outputs": [],
   "source": [
    "if len(Performance)==0:\n",
    "    Performance='NaN'\n",
    "else:\n",
    "    Performance=scores(Performance)"
   ]
  },
  {
   "cell_type": "code",
   "execution_count": 122,
   "id": "8301e141",
   "metadata": {},
   "outputs": [],
   "source": [
    "if len(Handling)==0:\n",
    "    Handling='NaN'\n",
    "else:\n",
    "    Handling=scores(Handling)"
   ]
  },
  {
   "cell_type": "code",
   "execution_count": 123,
   "id": "e4d0d57a",
   "metadata": {},
   "outputs": [
    {
     "data": {
      "text/plain": [
       "0.72"
      ]
     },
     "execution_count": 123,
     "metadata": {},
     "output_type": "execute_result"
    }
   ],
   "source": [
    "Handling"
   ]
  },
  {
   "cell_type": "code",
   "execution_count": 124,
   "id": "6701d988",
   "metadata": {},
   "outputs": [
    {
     "data": {
      "text/plain": [
       "0.65"
      ]
     },
     "execution_count": 124,
     "metadata": {},
     "output_type": "execute_result"
    }
   ],
   "source": [
    "Performance"
   ]
  },
  {
   "cell_type": "code",
   "execution_count": 125,
   "id": "53295d11",
   "metadata": {},
   "outputs": [
    {
     "data": {
      "text/plain": [
       "0.61"
      ]
     },
     "execution_count": 125,
     "metadata": {},
     "output_type": "execute_result"
    }
   ],
   "source": [
    "comfort"
   ]
  },
  {
   "cell_type": "code",
   "execution_count": 126,
   "id": "06d703a0",
   "metadata": {},
   "outputs": [
    {
     "data": {
      "text/plain": [
       "0.66"
      ]
     },
     "execution_count": 126,
     "metadata": {},
     "output_type": "execute_result"
    }
   ],
   "source": [
    "Off_road"
   ]
  },
  {
   "cell_type": "code",
   "execution_count": 127,
   "id": "25f674c6",
   "metadata": {},
   "outputs": [
    {
     "data": {
      "text/plain": [
       "0.59"
      ]
     },
     "execution_count": 127,
     "metadata": {},
     "output_type": "execute_result"
    }
   ],
   "source": [
    "Streering"
   ]
  },
  {
   "cell_type": "code",
   "execution_count": 128,
   "id": "3a899a34",
   "metadata": {},
   "outputs": [
    {
     "data": {
      "text/plain": [
       "0.79"
      ]
     },
     "execution_count": 128,
     "metadata": {},
     "output_type": "execute_result"
    }
   ],
   "source": [
    "Ride"
   ]
  },
  {
   "cell_type": "code",
   "execution_count": 129,
   "id": "33bcd403",
   "metadata": {},
   "outputs": [
    {
     "data": {
      "text/plain": [
       "0.61"
      ]
     },
     "execution_count": 129,
     "metadata": {},
     "output_type": "execute_result"
    }
   ],
   "source": [
    "Noice"
   ]
  },
  {
   "cell_type": "code",
   "execution_count": 130,
   "id": "a48ad45a",
   "metadata": {},
   "outputs": [
    {
     "data": {
      "text/plain": [
       "0.65"
      ]
     },
     "execution_count": 130,
     "metadata": {},
     "output_type": "execute_result"
    }
   ],
   "source": [
    "Vis"
   ]
  },
  {
   "cell_type": "code",
   "execution_count": 131,
   "id": "01627fa7",
   "metadata": {},
   "outputs": [
    {
     "data": {
      "text/plain": [
       "0.64"
      ]
     },
     "execution_count": 131,
     "metadata": {},
     "output_type": "execute_result"
    }
   ],
   "source": [
    "Range"
   ]
  },
  {
   "cell_type": "code",
   "execution_count": 132,
   "id": "832a0b3a",
   "metadata": {},
   "outputs": [
    {
     "data": {
      "text/plain": [
       "0.88"
      ]
     },
     "execution_count": 132,
     "metadata": {},
     "output_type": "execute_result"
    }
   ],
   "source": [
    "Braking"
   ]
  },
  {
   "cell_type": "code",
   "execution_count": 133,
   "id": "4ae87256",
   "metadata": {},
   "outputs": [
    {
     "data": {
      "text/plain": [
       "0.63"
      ]
     },
     "execution_count": 133,
     "metadata": {},
     "output_type": "execute_result"
    }
   ],
   "source": [
    "Feature"
   ]
  },
  {
   "cell_type": "code",
   "execution_count": 134,
   "id": "fbff8136",
   "metadata": {
    "scrolled": true
   },
   "outputs": [
    {
     "data": {
      "text/plain": [
       "0.73"
      ]
     },
     "execution_count": 134,
     "metadata": {},
     "output_type": "execute_result"
    }
   ],
   "source": [
    "Safety"
   ]
  }
 ],
 "metadata": {
  "kernelspec": {
   "display_name": "Python 3 (ipykernel)",
   "language": "python",
   "name": "python3"
  },
  "language_info": {
   "codemirror_mode": {
    "name": "ipython",
    "version": 3
   },
   "file_extension": ".py",
   "mimetype": "text/x-python",
   "name": "python",
   "nbconvert_exporter": "python",
   "pygments_lexer": "ipython3",
   "version": "3.9.12"
  }
 },
 "nbformat": 4,
 "nbformat_minor": 5
}
